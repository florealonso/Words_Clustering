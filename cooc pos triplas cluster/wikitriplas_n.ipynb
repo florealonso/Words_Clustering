{
 "cells": [
  {
   "cell_type": "code",
   "execution_count": null,
   "metadata": {
    "colab": {
     "base_uri": "https://localhost:8080/",
     "height": 102
    },
    "colab_type": "code",
    "id": "7Kc_oXPSIAhy",
    "outputId": "dccd4389-3929-485e-d5ec-d1e3d52328af"
   },
   "outputs": [],
   "source": [
    "import nltk\n",
    "nltk.download('stopwords')\n",
    "nltk.download('punkt')"
   ]
  },
  {
   "cell_type": "code",
   "execution_count": 1,
   "metadata": {
    "colab": {},
    "colab_type": "code",
    "id": "s1AsB3Xe0sRt"
   },
   "outputs": [],
   "source": [
    "import math\n",
    "import pandas as pd\n",
    "import matplotlib.pyplot as plt\n",
    "import seaborn as sns\n",
    "import numpy as np\n",
    "from sklearn.feature_extraction import DictVectorizer\n",
    "import spacy\n",
    "from nltk import sent_tokenize, word_tokenize\n",
    "from nltk.corpus import stopwords\n",
    "from scipy.sparse import csr_matrix\n",
    "\n",
    "nlp = spacy.load('es', vectors=False, entity=False)"
   ]
  },
  {
   "cell_type": "code",
   "execution_count": null,
   "metadata": {
    "colab": {
     "base_uri": "https://localhost:8080/",
     "height": 34
    },
    "colab_type": "code",
    "id": "PHyDWuni_X_S",
    "outputId": "60e26e59-be4b-48d6-b940-28bf5a4bf2cd"
   },
   "outputs": [],
   "source": [
    "def limpieza(linea):\n",
    "    \"\"\" Sólo se dejan los tokens que son palabras y números\"\"\"\n",
    "    \n",
    "    newline = []\n",
    "    for tok in linea:\n",
    "        if str(tok).isalpha() or str(tok).isdigit() or str(tok)=='.':\n",
    "            newline.append(tok)\n",
    "                \n",
    "    return newline\n",
    "\n",
    "\n",
    "def get_conll(oraciones):\n",
    "    \"\"\"Toma como entrada una lista de listas, donde cada lista es una oración con palabras procesadas con spacy.\"\"\"\n",
    "    # lista de palabras, lemmas, categorías sintácticas y dependencias\n",
    "    toks = []\n",
    "    toks_lemma = []\n",
    "    toks_pos = []\n",
    "    toks_dep = []\n",
    "    toks_head = []\n",
    "    \n",
    "    for sent in oraciones:\n",
    "        for word in sent:\n",
    "            toks.append(word)\n",
    "            toks_lemma.append(word.lemma_)\n",
    "            toks_pos.append(word.pos_)\n",
    "            toks_dep.append(word.dep_)\n",
    "            toks_head.append(word.head.lemma_)\n",
    "    \n",
    "    \"\"\"Se terminan de limpiar los tokens (Tener en cuenta que se van a usar los lemas)\n",
    "    * Todo se pasa a minúscula\n",
    "    * Los números se pasan a dígito\"\"\"\n",
    "    lemas = []\n",
    "    for w in toks_lemma:\n",
    "        if w.isdigit():\n",
    "            lemas.append('dígito')\n",
    "        else :\n",
    "            lemas.append(w.lower())\n",
    "    \n",
    "    conll = pd.DataFrame({'Word':toks , 'Lemma':lemas , 'Pos':toks_pos , 'Dep':toks_dep, 'HeadDep':toks_head })\n",
    "    return conll\n",
    "\n",
    "\n",
    "def load_data():\n",
    "    \"\"\"Carga una parte distinta del corpus.\"\"\"\n",
    "    with open('./spanishText_480000_485000', \"r\", encoding=\"utf8\", errors='ignore') as file:\n",
    "        while True:\n",
    "            texto = ''\n",
    "            for n in range(0,15000):\n",
    "                texto += file.readline()\n",
    "            if not texto:\n",
    "                break # se cargó todo el texto\n",
    "            yield texto\n",
    "\n",
    "load = load_data()\n",
    "load.__next__\n"
   ]
  },
  {
   "cell_type": "code",
   "execution_count": null,
   "metadata": {
    "colab": {},
    "colab_type": "code",
    "id": "HyVC540b_c7M"
   },
   "outputs": [],
   "source": [
    "Conll = pd.DataFrame(columns=['Word','Lemma','Pos','Dep'])\n",
    "\n",
    "for i in range(0,5):\n",
    "    texto = next(load)\n",
    "    \n",
    "    doc = nlp(texto)\n",
    "    # Separo en oraciones. lista de strings\n",
    "    oraciones = [sent for sent in doc.sents]\n",
    "    # Limpio las oraciones. lista de tokens. cada lista es una oración.\n",
    "    oraciones = [limpieza(sent) for sent in oraciones]\n",
    "    # Se eliminan las oraciones con menos de 5 tokens\n",
    "    oraciones = [sent for sent in oraciones if len(sent)>4]\n",
    "    \n",
    "    wanalysis = get_conll(oraciones)\n",
    "    Conll = pd.concat([Conll, wanalysis], sort=False)"
   ]
  },
  {
   "cell_type": "markdown",
   "metadata": {
    "colab_type": "text",
    "id": "aYHZ91b83VtQ"
   },
   "source": [
    "### Graficamos el conteo de palabras\n",
    "\n"
   ]
  },
  {
   "cell_type": "code",
   "execution_count": null,
   "metadata": {
    "colab": {},
    "colab_type": "code",
    "id": "3YA0sHB83m-Q"
   },
   "outputs": [],
   "source": [
    "import collections\n",
    "\n",
    "lemas = list(Conll.Lemma)\n",
    "frecs = collections.Counter(lemas)"
   ]
  },
  {
   "cell_type": "code",
   "execution_count": null,
   "metadata": {
    "colab": {
     "base_uri": "https://localhost:8080/",
     "height": 1000
    },
    "colab_type": "code",
    "id": "wRBLV-kIVzXi",
    "outputId": "d44df293-b9aa-48f7-c541-4b8cec8cc370"
   },
   "outputs": [],
   "source": [
    "Conteo = pd.DataFrame.from_dict(dict(frecs), orient='index')\n",
    "Conteo = Conteo.sort_values(by=0, ascending=False)\n",
    "Conteo = Conteo.reset_index().rename(columns={'index':'Palabras', 0:'Frecuencias'})"
   ]
  },
  {
   "cell_type": "code",
   "execution_count": null,
   "metadata": {},
   "outputs": [],
   "source": [
    "plt.figure(figsize=(10,5))\n",
    "\n",
    "sns.lineplot(data=Conteo, x=np.array(Conteo.index), y='Frecuencias')\n",
    "plt.ylabel('Frecuencia de palabras')\n",
    "plt.xlabel('Índices de palabras')\n",
    "plt.ylim(0, Conteo.Frecuencias.max())\n",
    "sns.despine()\n",
    "plt.savefig(\"Conteo de Palabras.jpg\")"
   ]
  },
  {
   "cell_type": "markdown",
   "metadata": {
    "colab_type": "text",
    "id": "IDJ7aGXl0r0Z"
   },
   "source": [
    "__Se eliminan las palabras con poca frecuencia (ruido) y las stop words.__"
   ]
  },
  {
   "cell_type": "code",
   "execution_count": null,
   "metadata": {
    "colab": {},
    "colab_type": "code",
    "id": "dCpZ7bOd4CJ-"
   },
   "outputs": [],
   "source": [
    "# Se marcan las palabras con una frecuencia menor a 50\n",
    "ruido = list(Conteo[Conteo.Frecuencias<50]['Palabras'])"
   ]
  },
  {
   "cell_type": "code",
   "execution_count": null,
   "metadata": {
    "colab": {},
    "colab_type": "code",
    "id": "yFXGWt3K4Gs3"
   },
   "outputs": [],
   "source": [
    "# STOP WORDS\n",
    "stopspanish = stopwords.words('spanish')"
   ]
  },
  {
   "cell_type": "code",
   "execution_count": null,
   "metadata": {
    "colab": {},
    "colab_type": "code",
    "id": "NrhMUx6y4Nyq"
   },
   "outputs": [],
   "source": [
    "# uso el cuerpo de lemas, eliminando las palabras que no aparecen suficientes veces y stopwords\n",
    "corpus_clean = [w for w in lemas if not (w in ruido or w in stopspanish)] "
   ]
  },
  {
   "cell_type": "code",
   "execution_count": null,
   "metadata": {
    "colab": {},
    "colab_type": "code",
    "id": "JUPmcKwUG0d9"
   },
   "outputs": [],
   "source": [
    "import pickle\n",
    "\n",
    "def guardar_corpus(datos):\n",
    "    with open(\"corpus_cleanTriplas.pkl\", \"wb\") as f:\n",
    "        pickle.dump(datos, f)\n",
    "        \n",
    "guardar_corpus(corpus_clean)"
   ]
  },
  {
   "cell_type": "code",
   "execution_count": null,
   "metadata": {
    "colab": {},
    "colab_type": "code",
    "id": "IyfJEzsNHJ-Z"
   },
   "outputs": [],
   "source": [
    "def cargar_corpus():\n",
    "     with open(\"corpus_cleanTriplas.pkl\", \"rb\") as f:\n",
    "        return pickle.load(f)\n",
    "      \n",
    "corpus_clean = cargar_corpus()"
   ]
  },
  {
   "cell_type": "markdown",
   "metadata": {
    "colab_type": "text",
    "id": "FxuWnSbj4S-k"
   },
   "source": [
    "### Diccionario con co-ocurrencias de palabras y Matriz de co-ocurrencias"
   ]
  },
  {
   "cell_type": "code",
   "execution_count": null,
   "metadata": {
    "colab": {
     "base_uri": "https://localhost:8080/",
     "height": 1000
    },
    "colab_type": "code",
    "id": "qWkAWLuw4uzl",
    "outputId": "51392e3d-6c5b-4ed9-c064-0041bcd2f01e"
   },
   "outputs": [],
   "source": [
    "corpus_clean = ' '.join(corpus_clean) # un texto en un string\n",
    "sent = [i.strip(' .') for i in sent_tokenize(corpus_clean, language='spanish') if len(word_tokenize(i))>2]"
   ]
  },
  {
   "cell_type": "code",
   "execution_count": null,
   "metadata": {
    "colab": {},
    "colab_type": "code",
    "id": "iIY1b22N5Pm8"
   },
   "outputs": [],
   "source": [
    "def dict_cooc_gen(sentences,w):\n",
    "    \"\"\"Toma como entrada una lista de strings, cada string es una oración.\n",
    "        Devuelve una lista de diccionarios con las coocurrencias y una lista de palabras para los indices de la matriz. \n",
    "        Ventana tamaño variable. (w palabras a izq y w palabras a der)\"\"\"\n",
    "    \n",
    "    cooc = [] # lista de diccionarios\n",
    "    idx = [] # lista de palabras\n",
    "    for sen in sentences:\n",
    "        sent = list(word_tokenize(sen, language='spanish'))\n",
    "        for m,tok in enumerate(sent):\n",
    "            \n",
    "            vecinos = []\n",
    "            # vecinos a la derecha\n",
    "            for l in range(1,w+1):\n",
    "                if m+l > len(sent)-1:\n",
    "                    break\n",
    "                else:\n",
    "                    vecinos.append(sent[m+l])\n",
    "            # vecinos a la izquierda\n",
    "            for l in range(1,w+1):\n",
    "                if m-l < 0:\n",
    "                    break\n",
    "                else:\n",
    "                    vecinos.append(sent[m-l])\n",
    "            \n",
    "            \n",
    "            # para agregar los vecinos de una nueva palabra\n",
    "            if tok in idx:\n",
    "                i = idx.index(tok)\n",
    "                cooc[i][tok] +=1\n",
    "            else :\n",
    "                cooc.append({tok:1}) \n",
    "                idx.append(tok)\n",
    "                i = idx.index(tok)\n",
    "\n",
    "            for v in vecinos:\n",
    "                if not v in cooc[i]:\n",
    "                    cooc[i][v] =1\n",
    "                else:\n",
    "                    cooc[i][v] +=1\n",
    "                        \n",
    "\n",
    "    return cooc, idx"
   ]
  },
  {
   "cell_type": "code",
   "execution_count": null,
   "metadata": {
    "colab": {},
    "colab_type": "code",
    "id": "Q8MDYtgP5SQO"
   },
   "outputs": [],
   "source": [
    "coocurrencias, idx = dict_cooc_gen(sent,2)"
   ]
  },
  {
   "cell_type": "markdown",
   "metadata": {
    "colab_type": "text",
    "id": "-wtzgKIt5hG2"
   },
   "source": [
    "__Agrego la morfología de la palabra. Ésto sirve para una categorización más sintáctica__"
   ]
  },
  {
   "cell_type": "code",
   "execution_count": null,
   "metadata": {
    "colab": {},
    "colab_type": "code",
    "id": "g0PYVD805ab6"
   },
   "outputs": [],
   "source": [
    "def dict_cooc_pos(coocurrencias, conll):  \n",
    "    posdicts= {}\n",
    "    for id in range(0,len(conll)):\n",
    "        if not conll.iloc[id,:].Lemma in list(posdicts.keys()):\n",
    "            posdicts[conll.iloc[id,:].Lemma] = [conll.iloc[id,:].Pos]\n",
    "        else:\n",
    "            posdicts[conll.iloc[id,:].Lemma].append(conll.iloc[id,:].Pos)\n",
    "            \n",
    "    for key,value in posdicts.items():\n",
    "        if key in idx:\n",
    "            i = idx.index(key)\n",
    "            for pos in value:\n",
    "                if not pos in list(coocurrencias[i].keys()):\n",
    "                    coocurrencias[i][pos]=1\n",
    "                else:\n",
    "                    coocurrencias[i][pos]+=1\n",
    "    \n",
    "    return coocurrencias"
   ]
  },
  {
   "cell_type": "code",
   "execution_count": null,
   "metadata": {
    "colab": {},
    "colab_type": "code",
    "id": "J14n5_gn5oLg"
   },
   "outputs": [],
   "source": [
    "coocurrencias = dict_cooc_pos(coocurrencias, Conll)"
   ]
  },
  {
   "cell_type": "code",
   "execution_count": null,
   "metadata": {
    "colab": {},
    "colab_type": "code",
    "id": "W_KjZPeb5rla"
   },
   "outputs": [],
   "source": [
    "def dict_cooc_triplas(coocurrencias, conll):\n",
    "    triplasdict = {}\n",
    "    for id in range(0,len(conll)):\n",
    "        if not conll.iloc[id,:].Lemma in list(triplasdict.keys()):\n",
    "            triplasdict[conll.iloc[id,:].Lemma] = [conll.iloc[id,:].Dep + '_' + conll.iloc[id,:].HeadDep]\n",
    "        else:\n",
    "            triplasdict[conll.iloc[id,:].Lemma].append(conll.iloc[id,:].Dep + '_' + conll.iloc[id,:].HeadDep)\n",
    "            \n",
    "    for key,value in triplasdict.items():\n",
    "        if key in idx:\n",
    "            i = idx.index(key)\n",
    "            for dep in value:\n",
    "                if not dep in list(coocurrencias[i].keys()):\n",
    "                    coocurrencias[i][dep]=1\n",
    "                else:\n",
    "                    coocurrencias[i][dep]+=1\n",
    "                    \n",
    "    return coocurrencias"
   ]
  },
  {
   "cell_type": "code",
   "execution_count": null,
   "metadata": {
    "colab": {},
    "colab_type": "code",
    "id": "VuN3avOy5wiw"
   },
   "outputs": [],
   "source": [
    "coocurrencias = dict_cooc_triplas(coocurrencias, Conll)"
   ]
  },
  {
   "cell_type": "code",
   "execution_count": null,
   "metadata": {
    "colab": {
     "base_uri": "https://localhost:8080/",
     "height": 1000
    },
    "colab_type": "code",
    "id": "x9x8iY1w51wI",
    "outputId": "867af016-26b1-4426-b1e6-154b87be2f40"
   },
   "outputs": [],
   "source": [
    "# Se obtiene la matriz de coocurrencias\n",
    "vectorizer = DictVectorizer()\n",
    "vec = vectorizer.fit_transform(coocurrencias)\n",
    "# Se muestra en un dataframe\n",
    "columnas=vectorizer.get_feature_names()\n",
    "matriz = pd.DataFrame(vec.toarray(), columns=columnas)\n",
    "matriz = matriz.set_axis(idx,axis=0, inplace=False)\n"
   ]
  },
  {
   "cell_type": "code",
   "execution_count": null,
   "metadata": {
    "colab": {
     "base_uri": "https://localhost:8080/",
     "height": 197
    },
    "colab_type": "code",
    "id": "az1uCAhOAgQ-",
    "outputId": "f2a66d18-b787-4179-9e4b-67e7a74390e7"
   },
   "outputs": [],
   "source": [
    "def guardar_mat(datos):\n",
    "    with open(\"mattriplascooc.pkl\", \"wb\") as f:\n",
    "        pickle.dump(datos, f)\n",
    "\n",
    "\n",
    "def cargar_mat():\n",
    "     with open(\"mattriplascooc.pkl\", \"rb\") as f:\n",
    "        return pickle.load(f)\n",
    "\n",
    "guardar_mat(matriz)"
   ]
  },
  {
   "cell_type": "code",
   "execution_count": null,
   "metadata": {
    "colab": {
     "base_uri": "https://localhost:8080/",
     "height": 282
    },
    "colab_type": "code",
    "id": "09dyp0UBAuQs",
    "outputId": "ce57a3a4-6a46-40b6-81d7-442a70d59627"
   },
   "outputs": [],
   "source": [
    "matriz = cargar_mat()\n"
   ]
  },
  {
   "cell_type": "markdown",
   "metadata": {
    "colab_type": "text",
    "id": "xl964Gna6A6f"
   },
   "source": [
    "### LSA para reducir dimensionalidad\n",
    "\n",
    "With SVD(Singular value decomposition) to this matrix to reduce the number of features from ~10000 to around 100 to 300 features which will condense all the important features into small vector space."
   ]
  },
  {
   "cell_type": "code",
   "execution_count": null,
   "metadata": {
    "colab": {},
    "colab_type": "code",
    "id": "eH_xOcS96B0q"
   },
   "outputs": [],
   "source": [
    "from sklearn.decomposition import TruncatedSVD"
   ]
  },
  {
   "cell_type": "code",
   "execution_count": null,
   "metadata": {
    "colab": {},
    "colab_type": "code",
    "id": "u1ACwlo_6FwQ"
   },
   "outputs": [],
   "source": [
    "svd = TruncatedSVD(n_components=300, n_iter=8, random_state=123)\n",
    "matriz_reducida = svd.fit_transform(matriz.values) "
   ]
  },
  {
   "cell_type": "code",
   "execution_count": null,
   "metadata": {
    "colab": {},
    "colab_type": "code",
    "id": "X0BC4t1j_WHY"
   },
   "outputs": [],
   "source": [
    "var = svd.explained_variance_ratio_.sum()\n",
    "print('La varianza conservada es: ', var)"
   ]
  },
  {
   "cell_type": "code",
   "execution_count": null,
   "metadata": {
    "colab": {},
    "colab_type": "code",
    "id": "Fu-MaJjq_Zf6"
   },
   "outputs": [],
   "source": [
    "matred = pd.DataFrame(matriz_reducida, index=matriz.index )"
   ]
  },
  {
   "cell_type": "code",
   "execution_count": null,
   "metadata": {
    "colab": {},
    "colab_type": "code",
    "id": "7mwtepan_qfJ"
   },
   "outputs": [],
   "source": [
    "def guardar_lsa(datos):\n",
    "    with open(\"lsa00.pkl\", \"wb\") as f:\n",
    "        pickle.dump(datos, f)\n",
    "\n",
    "guardar_lsa(matred)"
   ]
  },
  {
   "cell_type": "code",
   "execution_count": 20,
   "metadata": {
    "colab": {},
    "colab_type": "code",
    "id": "OM711wG9_2Sb"
   },
   "outputs": [],
   "source": [
    "def cargar_lsa():\n",
    "     with open(\"lsa00.pkl\", \"rb\") as f:\n",
    "        return pickle.load(f)\n",
    "\n",
    "matred = cargar_lsa()\n",
    "matriz_reducida = matred.values"
   ]
  },
  {
   "cell_type": "markdown",
   "metadata": {
    "colab_type": "text",
    "id": "o0QrOowt_3t6"
   },
   "source": [
    "### t-sne para Visualizar"
   ]
  },
  {
   "cell_type": "code",
   "execution_count": 21,
   "metadata": {
    "colab": {},
    "colab_type": "code",
    "id": "lZ_KLZNp_7A5"
   },
   "outputs": [],
   "source": [
    "from sklearn.manifold import TSNE"
   ]
  },
  {
   "cell_type": "code",
   "execution_count": 23,
   "metadata": {
    "colab": {},
    "colab_type": "code",
    "id": "3LVt9Qc9_-TW"
   },
   "outputs": [],
   "source": [
    "viz = TSNE(n_components=2, metric='cosine', init='pca', random_state=123)\n",
    "t_sne = viz.fit_transform(matriz_reducida)"
   ]
  },
  {
   "cell_type": "code",
   "execution_count": 33,
   "metadata": {
    "colab": {},
    "colab_type": "code",
    "id": "57Bch0ToAGhf"
   },
   "outputs": [
    {
     "data": {
      "image/png": "[encoded data removed]",
      "text/plain": [
       "<Figure size 720x720 with 1 Axes>"
      ]
     },
     "metadata": {
      "needs_background": "light"
     },
     "output_type": "display_data"
    },
    {
     "data": {
      "text/plain": [
       "<Figure size 432x288 with 0 Axes>"
      ]
     },
     "metadata": {},
     "output_type": "display_data"
    }
   ],
   "source": [
    "plt.figure(figsize=(10,10)) \n",
    "\n",
    "plt.scatter(t_sne[:, 0], t_sne[:, 1], s=2, c='g')\n",
    "plt.title(\"Visualización a 2 dimensiones con t-SNE\")\n",
    "plt.axis('tight')\n",
    "plt.show()\n",
    "plt.savefig(\"t-sne.jpg\")"
   ]
  },
  {
   "cell_type": "code",
   "execution_count": 34,
   "metadata": {},
   "outputs": [
    {
     "data": {
      "image/png": "[encoded data removed]",
      "text/plain": [
       "<Figure size 720x720 with 1 Axes>"
      ]
     },
     "metadata": {
      "needs_background": "light"
     },
     "output_type": "display_data"
    },
    {
     "data": {
      "text/plain": [
       "<Figure size 432x288 with 0 Axes>"
      ]
     },
     "metadata": {},
     "output_type": "display_data"
    }
   ],
   "source": [
    "plt.figure(figsize=(10,10)) \n",
    "\n",
    "plt.scatter(t_sne[:, 0], t_sne[:, 1], s=2, c='g')\n",
    "plt.title(\"Visualización a 2 dimensiones con t-SNE\")\n",
    "plt.axis([-125,0,-100,50])\n",
    "\n",
    "plt.show()\n",
    "plt.savefig(\"t-sne_zoom.jpg\")"
   ]
  },
  {
   "cell_type": "markdown",
   "metadata": {
    "colab_type": "text",
    "id": "9ATPwk2VYxBh"
   },
   "source": [
    "### Clustering con Kmeans de NLTK"
   ]
  },
  {
   "cell_type": "code",
   "execution_count": null,
   "metadata": {
    "colab": {},
    "colab_type": "code",
    "id": "DiOCU2mcdtBv"
   },
   "outputs": [],
   "source": [
    "from nltk.cluster import KMeansClusterer, cosine_distance  # euclidean_distance"
   ]
  },
  {
   "cell_type": "code",
   "execution_count": null,
   "metadata": {
    "colab": {},
    "colab_type": "code",
    "id": "u4X_dCcbd1gh"
   },
   "outputs": [],
   "source": [
    "clusterer = KMeansClusterer(10, cosine_distance, avoid_empty_clusters=True)\n",
    "labels = clusterer.cluster(matriz_reducida, True)\n",
    "\n",
    "labels_unique = np.unique(labels)\n",
    "n_clusters = len(labels_unique)\n",
    "\n",
    "print('Número de clusters encontrados: ', n_clusters)\n",
    "clusters = pd.DataFrame({'Palabras':matred.index, 'Etiqueta':labels})\n",
    "\n",
    "clusters.to_csv('10clusters.csv')"
   ]
  },
  {
   "cell_type": "code",
   "execution_count": null,
   "metadata": {},
   "outputs": [],
   "source": [
    "clusterer = KMeansClusterer(50, cosine_distance, avoid_empty_clusters=True)\n",
    "labels = clusterer.cluster(matriz_reducida, True)\n",
    "\n",
    "labels_unique = np.unique(labels)\n",
    "n_clusters = len(labels_unique)\n",
    "\n",
    "print('Número de clusters encontrados: ', n_clusters)\n",
    "clusters = pd.DataFrame({'Palabras':matred.index, 'Etiqueta':labels})\n",
    "\n",
    "clusters.to_csv('50clusters.csv')"
   ]
  },
  {
   "cell_type": "code",
   "execution_count": null,
   "metadata": {},
   "outputs": [],
   "source": [
    "clusterer = KMeansClusterer(100, cosine_distance, avoid_empty_clusters=True)\n",
    "labels = clusterer.cluster(matriz_reducida, True)\n",
    "\n",
    "labels_unique = np.unique(labels)\n",
    "n_clusters = len(labels_unique)\n",
    "\n",
    "print('Número de clusters encontrados: ', n_clusters)\n",
    "clusters = pd.DataFrame({'Palabras':matred.index, 'Etiqueta':labels})\n",
    "\n",
    "clusters.to_csv('100clusters.csv')"
   ]
  },
  {
   "cell_type": "markdown",
   "metadata": {},
   "source": [
    "### Explorando los clusters:"
   ]
  },
  {
   "cell_type": "code",
   "execution_count": 4,
   "metadata": {},
   "outputs": [],
   "source": [
    "clust10 = pd.read_csv('10clusters.csv').drop(['Unnamed: 0'], axis=1)"
   ]
  },
  {
   "cell_type": "code",
   "execution_count": 6,
   "metadata": {},
   "outputs": [
    {
     "data": {
      "text/html": [
       "<div>\n",
       "<style scoped>\n",
       "    .dataframe tbody tr th:only-of-type {\n",
       "        vertical-align: middle;\n",
       "    }\n",
       "\n",
       "    .dataframe tbody tr th {\n",
       "        vertical-align: top;\n",
       "    }\n",
       "\n",
       "    .dataframe thead th {\n",
       "        text-align: right;\n",
       "    }\n",
       "</style>\n",
       "<table border=\"1\" class=\"dataframe\">\n",
       "  <thead>\n",
       "    <tr style=\"text-align: right;\">\n",
       "      <th></th>\n",
       "      <th>Palabras</th>\n",
       "    </tr>\n",
       "    <tr>\n",
       "      <th>Etiqueta</th>\n",
       "      <th></th>\n",
       "    </tr>\n",
       "  </thead>\n",
       "  <tbody>\n",
       "    <tr>\n",
       "      <td>0</td>\n",
       "      <td>349</td>\n",
       "    </tr>\n",
       "    <tr>\n",
       "      <td>1</td>\n",
       "      <td>6</td>\n",
       "    </tr>\n",
       "    <tr>\n",
       "      <td>2</td>\n",
       "      <td>7</td>\n",
       "    </tr>\n",
       "    <tr>\n",
       "      <td>3</td>\n",
       "      <td>38</td>\n",
       "    </tr>\n",
       "    <tr>\n",
       "      <td>4</td>\n",
       "      <td>32</td>\n",
       "    </tr>\n",
       "    <tr>\n",
       "      <td>5</td>\n",
       "      <td>110</td>\n",
       "    </tr>\n",
       "    <tr>\n",
       "      <td>6</td>\n",
       "      <td>11</td>\n",
       "    </tr>\n",
       "    <tr>\n",
       "      <td>7</td>\n",
       "      <td>175</td>\n",
       "    </tr>\n",
       "    <tr>\n",
       "      <td>8</td>\n",
       "      <td>329</td>\n",
       "    </tr>\n",
       "    <tr>\n",
       "      <td>9</td>\n",
       "      <td>165</td>\n",
       "    </tr>\n",
       "  </tbody>\n",
       "</table>\n",
       "</div>"
      ],
      "text/plain": [
       "          Palabras\n",
       "Etiqueta          \n",
       "0              349\n",
       "1                6\n",
       "2                7\n",
       "3               38\n",
       "4               32\n",
       "5              110\n",
       "6               11\n",
       "7              175\n",
       "8              329\n",
       "9              165"
      ]
     },
     "execution_count": 6,
     "metadata": {},
     "output_type": "execute_result"
    }
   ],
   "source": [
    "clust10.groupby('Etiqueta').count()"
   ]
  },
  {
   "cell_type": "code",
   "execution_count": 8,
   "metadata": {},
   "outputs": [
    {
     "name": "stdout",
     "output_type": "stream",
     "text": [
      "Cluster  0 :  ['futbolista', 'jugar', 'delantero', 'consecuencia', 'familia', 'mano', 'embargar', 'mesar', 'equipar', 'nombrar', 'gol', 'debut', 'actor', 'esposo', 'tierra', 'episodio', 'casar', 'profesor', 'teora', 'tiempo', 'cuadrar', 'piano', 'cantante', 'artista', 'revistar', 'trabajar', 'director', 'hijo', 'vez', 'grupo', 'miembro', 'partir', 'accin', 'derecho', 'fecho', 'particular', 'frente', 'ciudad', 'girar', 'comandante', 'principio', 'actividad', 'luchar', 'autor', 'libro', 'municipio', 'trabajo', 'lado', 'valor', 'pesar', 'sangrar', 'muerte', 'control', 'poner', 'territorio', 'ayudar', 'vida', 'frontero', 'objetivar', 'atacar', 'orden', 'edad', 'firmar', 'momento', 'carrera', 'calidad', 'acordar', 'cambiar', 'equipo', 'arte', 'imgenes', 'seriar', 'actriz', 'hermano', 'pelcula', 'lbum', 'disco', 'compositor', 'canción', 'basar', 'texto', 'cine', 'centrar', 'mediar', 'padre', 'noche', 'visitar', 'vestir', 'mundo', 'campar', 'principiar', 'siglo', 'largar', 'final', 'cursar', 'capital', 'habitante', 'ingresar', 'poblar', 'ocasionar', 'historiador', 'lugar', 'palabra', 'personar', 'resultar', 'reinar', 'fin', 'pasar', 'mitad', 'transportar', 'isla', 'ancho', 'distanciar', 'viajar', 'cuanto', 'mujer', 'hogar', 'tropa', 'reconocimiento', 'formar', 'piedra', 'gente', 'zona', 'fuerza', 'marchar', 'causar', 'cargar', 'jvenes', 'armar', 'personaje', 'tal', 'registrar', 'fuente', 'origen', 'conflicto', 'papel', 'respectar', 'medir', 'hombre', 'hoja', 'escritor', 'caminar', 'bosque', 'mayora', 'soldar', 'tipo', 'batallar', 'elemento', 'mandar', 'referenciar', 'hermanar', 'orar', 'estudiante', 'fundador', 'fachado', 'responsable', 'travs', 'movimiento', 'combatir', 'terreno', 'regimentar', 'avanzar', 'unidad', 'enemigo', 'comandar', 'sentir', 'herir', 'fondo', 'extremar', 'salar', 'cortar', 'librar', 'distrito', 'soler', 'nivel', 'pilotar', 'sector', 'promediar', 'experiencia', 'vivienda', 'recurso', 'ejemplo', 'hecho', 'estacionar', 'cabeza', 'accionar', 'defensa', 'cubrir', 'manera', 'aguar', 'cuerpo', 'altura', 'punto', 'apoyar', 'pie', 'caractersticas', 'presenciar', 'vehculos', 'servicio', 'material', 'coser', 'desarrollar', 'manir', 'espaciar', 'sonido', 'favor', 'clase', 'industriar', 'ltimos', 'interior', 'estilar', 'estrellar', 'escena', 'concertar', 'concierto', 'pase', 'letra', 'programar', 'problema', 'ala', 'premiar', 'productor', 'jugador', 'entrenador', 'restar', 'estadio', 'honor', 'estudio', 'novelar', 'fase', 'amigo', 'literatura', 'departamento', 'pequeo', 'influenciar', 'barrio', 'sitiar', 'gracia', 'gnero', 'condicionar', 'sedar', 'figurar', 'cabo', 'xx', 'modelar', 'pueblo', 'templar', 'casero', 'madre', 'localidad', 'empresa', 'edificio', 'bus', 'radiar', 'alcalde', 'forzar', 'cadena', 'temer', 'propiedad', 'autoridad', 'carretero', 'tren', 'falto', 'conjuntar', 'ferrocarril', 'sistema', 'velocidad', 'chico', 'xix', 'luz', 'ideo', 'plantar', 'especie', 'ave', 'millón', 'estudiar', 'comediar', 'imagen', 'ciencia', 'banda', 'euro', 'proyectar', 'portar', 'producto', 'modo', 'conocimiento', 'importancia', 'proyecto', 'necesidad', 'flor', 'funcionar', 'aire', 'colorir', 'venta', 'capacidad', 'futuro', 'superficie', 'vecino', 'marcar', 'diferenciar', 'animal', 'motivar', 'resto', 'cantidad', 'plano', 'periodo', 'listo', 'actualidad', 'arco', 'efecto', 'xvi', 'xviii', 'obrar', 'acceso', 'pieza', 'estructurar', 'maderar', 'callar', 'muro', 'tramar', 'relacin', 'puerta', 'pintor', 'pintura', 'pistar', 'color', 'comuna', 'elección', 'realidad', 'anonceas', 'aspecto', 'periodista', 'motor', 'formato', 'eje', 'volumen', 'espadar', 'buque', 'concepto', 'lanzamiento', 'vano', 'procesar', 'volar', 'dato', 'capilla', 'ventana', 'hueco', 'guerrillero', 'apocinceas'] \n",
      "\n",
      "Cluster  1 :  ['comer', 'aunque', 'mientras', 'si', 'pues', 'talar'] \n",
      "\n",
      "Cluster  2 :  ['sobrar', 'tras', 'entrar', 'hacia', 'bajar', 'in', 'mediante'] \n",
      "\n",
      "Cluster  3 :  ['dígito', 'agostar', 'diez', 'minuto', 'mayar', 'julio', 'marzo', 'octubre', 'gan', 'enero', 'escultura', 'septiembre', 'cercar', 'junio', 'alrededor', 'do', 'siete', 'tres', 'aproximadamente', 'noviembre', 'isbn', 'diciembre', 'febrero', 'seis', 'ambos', 'mil', 'abril', 'cincar', 'estrenar', 'cuatro', 'n', 'centímetro', 'milímetro', 'mundi', 'cv', 'till', 'fontsize', 'xs'] \n",
      "\n",
      "Cluster  4 :  ['new', 'the', 'at', 'of', 'for', 'on', 'and', 'i', 'music', 'history', 'from', 'to', 'world', 'american', 'with', 'international', 'review', 'man', 'by', 'plant', 'systematics', 'ppp', 'index', 'names', 'catalogue', 'life', 'encyclopedia', 'one', 'that', 'was', 'her', 'mcmahon'] \n",
      "\n",
      "Cluster  5 :  ['guerra', 'ftbol', 'slo', 'temporada', 'club', 'campeonato', 'tambin', 'paz', 'amor', 'escuela', 'provincia', 'secretario', 'presidente', 'ministro', 'ley', 'cmo', 'seguridad', 'rey', 'xito', 'red', 'hotel', 'voz', 'guitarra', 'dcada', 'lleg', 'rus', 'mar', 'costa', 'ruta', 'pequea', 'norte', 'sur', 'noroeste', 'kilómetro', 'lago', 'pequeos', 'noreste', 'nios', 'nmero', 'jefe', 'independencia', 'cultura', 'reo', 'segundo', 'victoria', 'coronel', 'regimiento', 'plan', 'kilmetros', 'historia', 'metro', 'ganador', 'ttulo', 'maestro', 'poltica', 'medio', 'presidencia', 'seccin', 'hospital', 'hora', 'artculos', 'puente', 'pelculas', 'teatro', 'composicin', 'salud', 'ciclista', 'semana', 'etapa', 'video', 'oficina', 'verano', 'categora', 'oeste', 'produccin', 'juego', 'comunidad', 'gobernador', 'diario', 'condado', 'colonia', 'serie', 'x', 'catedral', 'biblioteca', 'arquitectura', 'canal', 'sociedad', 'pilar', 'longitud', 'parque', 'rock', 'perodo', 'obispo', 'captulo', 'plaza', 'd', 'calle', 'memoria', 'castillo', 'elecciones', 'co', 'nacimiento', 'metal', 'parroquia', 'anlisis', 'merindad', 'villa', 'cerro', 'aeropuerto'] \n",
      "\n",
      "Cluster  6 :  ['parir', 'dar', 'varios', 'mismo', 'cada', 'vario', 'cualquiera', 'alguno', 'aquel', 'diverso', 'ninguno'] \n",
      "\n",
      "Cluster  7 :  ['ser', 'abandonar', 'comenz', 'disponer', 'haber', 'conseguir', 'encontrar', 'entonces', 'participar', 'tener', 'poder', 'referirse', 'destacar', 'cuyo', 'recordar', 'cantar', 'grabar', 'actualmente', 'vivir', 'trabaj', 'derrotar', 'interpretar', 'significar', 'dentro', 'elegir', 'parecer', 'enviar', 'decir', 'deber', 'ocupar', 'hacer', 'intentar', 'paso', 'regresar', 'descubrir', 'realiz', 'cruzar', 'volver', 'establecer', 'llegar', 'lanzar', 'contener', 'tratar', 'luego', 'haba', 'tardar', 'nunca', 'representar', 'aparecer', 'vender', 'producir', 'capturar', 'bien', 'lograr', 'acabar', 'asesinar', 'finalmente', 'realizar', 'fundar', 'comenzar', 'comprar', 'llevar', 'incluso', 'existir', 'creer', 'describir', 'utilizar', 'mostrar', 'obtener', 'seguir', 'llev', 'siempre', 'podar', 'permitir', 'conservar', 'matar', 'ver', 'salir', 'haban', 'sera', 'tomar', 'escribi', 'quedar', 'aumentar', 'enfrentar', 'esperar', 'situacin', 'entregar', 'convertir', 'operar', 'hallar', 'menos', 'ahora', 'presentar', 'buscar', 'referir', 'ocurrir', 'ir', 'terminar', 'perder', 'tena', 'sino', 'iniciar', 'pronto', 'ganar', 'pedir', 'recorrer', 'emplear', 'decidir', 'retirar', 'querer', 'cumplir', 'contar', 'morir', 'dejar', 'decidi', 'usar', 'resolver', 'extender', 'continuar', 'constituir', 'empezar', 'declarar', 'indicar', 'unir', 'evitar', 'comprender', 'construir', 'introducir', 'tan', 'incluir', 'casi', 'anunciar', 'pensar', 'tenan', 'reemplazar', 'hoy', 'mantener', 'servir', 'convirti', 'destruir', 'empez', 'tocar', 'conducir', 'saber', 'suponer', 'sustituir', 'originalmente', 'posteriormente', 'poseer', 'considerar', 'recibir', 'celebrar', 'principalmente', 'proponer', 'encargar', 'hablar', 'contratar', 'finalizar', 'crear', 'venir', 'definir', 'pertenecer', 'compartir', 'especialmente', 'conectar', 'corresponder', 'designar', 'ofrecer', 'alcanzar', 'desear', 'adquirir', 'mirar', 'conformar', 'generalmente'] \n",
      "\n",
      "Cluster  8 :  ['alemania', 'jug', 'fc', 'despus', 'san', 'luis', 'unidos', 'all', 'universidad', 'milisegundo', 'pas', 'ao', 'paris', 'saint', 'francia', 'aos', 'alemn', 'seleccin', 'copa', 'mundial', 'ingls', 'pgina', 'endofarticle', 'doc', 'per', 'mara', 'lpez', 'garca', 'eduardo', 'manuel', 'fernando', 'carlos', 'francs', 'general', 'pars', 'trmino', 'francisco', 'estudi', 'msica', 'festival', 'roma', 'york', 'et', 'gobierno', 'graham', 'londres', 'nueva', 'ii', 'du', 'love', 'enlaces', 'sitio', 'espaol', 'franco', 'buenos', 'aires', 'poltico', 'nacional', 'participacin', 'gobernar', 'repblica', 'recibi', 'partido', 'adems', 'fundacin', 'comisin', 'cmara', 'form', 'economa', 'congreso', 'investigacin', 'transicin', 'argentina', 'justicia', 'real', 'iii', 'liga', 'ligar', 'v', 'ejrcito', 'litro', 'gonzlez', 'barcelona', 'inici', 'particip', 'juan', 'divisin', 'united', 'washington', 'c', 'internet', 'pblico', 'estacin', 'as', 'naci', 'cancin', 'river', 'john', 'school', 'opera', 'santa', 'fe', 'ltima', 'william', 'segunda', 'jos', 'rpidamente', 'irn', 'regin', 'ro', 'segn', 'europa', 'don', 'lder', 'primera', 'religin', 'george', 'continuacin', 'qu', 'ningn', 'peter', 'jorge', 'vase', 'edicin', 'david', 'asia', 'university', 'press', 'jess', 'venezuela', 'unin', 'pblica', 'maria', 'campo', 'alihuat', 'fernndez', 'chile', 'lneas', 'batero', 'rafael', 'direccin', 'poblacin', 'robert', 'texas', 'carolina', 'est', 'web', 'mxico', 'california', 'ayuntamiento', 'instituto', 'sonora', 'felipe', 'alberto', 'paraguay', 'prez', 'lnea', 'operacin', 'razn', 'tom', 'misin', 'ms', 'capitn', 'infantera', 'an', 'batalln', 'construccin', 'nicols', 'posicin', 'compaa', 'it', 'armada', 'city', 'academia', 'japn', 'area', 'die', 'richard', 'cruz', 'records', 'australia', 'centro', 'televisin', 'tour', 'vuelta', 'italia', 'show', 'artculo', 'federal', 'referencias', 'india', 'you', 'colombia', 'informacin', 'asociacin', 'santiago', 'brasil', 'santo', 'espaa', 'espaola', 'ste', 'miguel', 'polica', 'pablo', 'antonio', 'msico', 'madrid', 'samba', 'duque', 'crtica', 'gua', 'martnez', 'reino', 'unido', 'extensin', 'iglesia', 'energa', 'radio', 'valle', 'uribe', 'public', 'consejo', 'educacin', 'organizacin', 'seor', 'puerto', 'museo', 'tcnico', 'tcnica', 'snchez', 'senado', 'comn', 'eleccin', 'paul', 'chicago', 'crdoba', 'sevilla', 'mlaga', 'blanca', 'pedro', 'conde', 'ficha', 'premio', 'rodrguez', 'f', 'text', 'jean', 'amrica', 'so', 'paulo', 'sovitica', 'martn', 'casa', 'castilla', 'len', 'london', 'coleccin', 'carcter', 'palacio', 'von', 'fricar', 'formacin', 'creacin', 'inters', 'cre', 'tamao', 'sol', 'montaas', 'can', 'james', 'national', 'canad', 'henry', 'orihuela', 'valencia', 'colegio', 'iv', 'filosofa', 'valladolid', 'administracin', 'l', 'alfonso', 's', 'plata', 'rosario', 'junta', 'der', 'cantn', 'insee', 'cd', 'tv', 'michael', 'sta', 'dios', 'diseo', 'versin', 'avin', 'dr', 'marqus', 'vasco', 'smith', 'avenida', 'medioda', 'tarn', 'my', 'hab', 'revolucin', 'lee', 'burgos', 'jaguar', 'funeral', 'dvd', 'allen', 'van', 'wagner', 'b', 'sierra', 'murcia', 'saln', 'ue', 'romeu', 'deller', 'lp', 'harmonia', 'najwa', 'wilson', 'eln', 'obama', 'frmaco'] \n",
      "\n",
      "Cluster  9 :  ['nacer', 'actual', 'campaa', 'primero', 'titular', '\\ufeff1', 'superior', 'nacido', 'gran', 'grande', 'externo', 'oficial', 'argentino', 'joven', 'electo', 'posterior', 'polticas', 'social', 'ex', 'dirigir', 'siguiente', 'militar', 'relacionar', 'griego', 'antiguar', 'juntar', 'nico', 'cercano', 'llamar', 'propio', 'occidental', 'profesional', 'componer', 'nica', 'local', 'tradicional', 'estadounidense', 'conocido', 'conocer', 'principal', 'situar', 'menor', 'personal', 'bajo', 'notable', 'popular', 'solo', 'junto', 'muri', 'determinar', 'ltimo', 'comercial', 'inferior', 'europeo', 'perteneciente', 'segundar', 'igual', 'tercero', 'negro', 'cristiano', 'rodear', 'mencionar', 'claro', 'romano', 'posible', 'cerrar', 'escribir', 'anterior', 'importante', 'obligar', 'ubicar', 'antiguo', 'central', 'paraguayo', 'mayor', 'boliviano', 'abrir', 'bueno', 'izquierdo', 'similar', 'nuevo', 'alto', 'dedicar', 'mejor', 'municipal', 'amplio', 'diferente', 'primer', 'estatal', 'cuartar', 'total', 'largo', 'fuerte', 'pequeas', 'logr', 'mejorar', 'directo', 'completar', 'ruso', 'viejo', 'necesario', 'humano', 'blanco', 'destinar', 'oriental', 'denominar', 'organizar', 'cultural', 'musical', 'deportivo', 'reconocer', 'publicar', 'internacional', 'colombiano', 'moderno', 'espaoles', 'sencillo', 'rico', 'privar', 'natural', 'dividir', 'numeroso', 'mexicano', 'industrial', 'botnico', 'emitir', 'invitar', 'britnico', 'verde', 'distinto', 'lateral', 'solar', 'rural', 'especializar', 'estn', 'original', 'rojo', 'histrico', 'secundario', 'americano', 'tropical', 'urbano', 'civil', 'famoso', 'limitar', 'alemán', 'verdadero', 'francés', 'religioso', 'doblar', 'fanergamas', 'vertical', 'decorar', 'citar', 'nativo', 'especial', 'cierto', 'italiano', 'exterior', 'integrar', 'independiente', 'chileno', 'localizar', 'polaco', 'sillar'] \n",
      "\n"
     ]
    }
   ],
   "source": [
    "for i in range(0,10):\n",
    "    print('Cluster ', i, ': ', list(clust10[clust10.Etiqueta==i].Palabras),'\\n')"
   ]
  },
  {
   "cell_type": "code",
   "execution_count": 11,
   "metadata": {},
   "outputs": [],
   "source": [
    "clust50 = pd.read_csv('50clusters.csv').drop(['Unnamed: 0'], axis=1)"
   ]
  },
  {
   "cell_type": "code",
   "execution_count": 12,
   "metadata": {},
   "outputs": [
    {
     "data": {
      "text/html": [
       "<div>\n",
       "<style scoped>\n",
       "    .dataframe tbody tr th:only-of-type {\n",
       "        vertical-align: middle;\n",
       "    }\n",
       "\n",
       "    .dataframe tbody tr th {\n",
       "        vertical-align: top;\n",
       "    }\n",
       "\n",
       "    .dataframe thead th {\n",
       "        text-align: right;\n",
       "    }\n",
       "</style>\n",
       "<table border=\"1\" class=\"dataframe\">\n",
       "  <thead>\n",
       "    <tr style=\"text-align: right;\">\n",
       "      <th></th>\n",
       "      <th>Palabras</th>\n",
       "    </tr>\n",
       "    <tr>\n",
       "      <th>Etiqueta</th>\n",
       "      <th></th>\n",
       "    </tr>\n",
       "  </thead>\n",
       "  <tbody>\n",
       "    <tr>\n",
       "      <td>0</td>\n",
       "      <td>259</td>\n",
       "    </tr>\n",
       "    <tr>\n",
       "      <td>1</td>\n",
       "      <td>13</td>\n",
       "    </tr>\n",
       "    <tr>\n",
       "      <td>2</td>\n",
       "      <td>1</td>\n",
       "    </tr>\n",
       "    <tr>\n",
       "      <td>3</td>\n",
       "      <td>1</td>\n",
       "    </tr>\n",
       "    <tr>\n",
       "      <td>4</td>\n",
       "      <td>40</td>\n",
       "    </tr>\n",
       "    <tr>\n",
       "      <td>5</td>\n",
       "      <td>30</td>\n",
       "    </tr>\n",
       "    <tr>\n",
       "      <td>6</td>\n",
       "      <td>4</td>\n",
       "    </tr>\n",
       "    <tr>\n",
       "      <td>7</td>\n",
       "      <td>1</td>\n",
       "    </tr>\n",
       "    <tr>\n",
       "      <td>8</td>\n",
       "      <td>31</td>\n",
       "    </tr>\n",
       "    <tr>\n",
       "      <td>9</td>\n",
       "      <td>2</td>\n",
       "    </tr>\n",
       "    <tr>\n",
       "      <td>10</td>\n",
       "      <td>2</td>\n",
       "    </tr>\n",
       "    <tr>\n",
       "      <td>11</td>\n",
       "      <td>1</td>\n",
       "    </tr>\n",
       "    <tr>\n",
       "      <td>12</td>\n",
       "      <td>5</td>\n",
       "    </tr>\n",
       "    <tr>\n",
       "      <td>13</td>\n",
       "      <td>1</td>\n",
       "    </tr>\n",
       "    <tr>\n",
       "      <td>14</td>\n",
       "      <td>23</td>\n",
       "    </tr>\n",
       "    <tr>\n",
       "      <td>15</td>\n",
       "      <td>1</td>\n",
       "    </tr>\n",
       "    <tr>\n",
       "      <td>16</td>\n",
       "      <td>272</td>\n",
       "    </tr>\n",
       "    <tr>\n",
       "      <td>17</td>\n",
       "      <td>96</td>\n",
       "    </tr>\n",
       "    <tr>\n",
       "      <td>18</td>\n",
       "      <td>1</td>\n",
       "    </tr>\n",
       "    <tr>\n",
       "      <td>19</td>\n",
       "      <td>6</td>\n",
       "    </tr>\n",
       "    <tr>\n",
       "      <td>20</td>\n",
       "      <td>1</td>\n",
       "    </tr>\n",
       "    <tr>\n",
       "      <td>21</td>\n",
       "      <td>8</td>\n",
       "    </tr>\n",
       "    <tr>\n",
       "      <td>22</td>\n",
       "      <td>34</td>\n",
       "    </tr>\n",
       "    <tr>\n",
       "      <td>23</td>\n",
       "      <td>1</td>\n",
       "    </tr>\n",
       "    <tr>\n",
       "      <td>24</td>\n",
       "      <td>1</td>\n",
       "    </tr>\n",
       "    <tr>\n",
       "      <td>25</td>\n",
       "      <td>93</td>\n",
       "    </tr>\n",
       "    <tr>\n",
       "      <td>26</td>\n",
       "      <td>8</td>\n",
       "    </tr>\n",
       "    <tr>\n",
       "      <td>27</td>\n",
       "      <td>47</td>\n",
       "    </tr>\n",
       "    <tr>\n",
       "      <td>28</td>\n",
       "      <td>7</td>\n",
       "    </tr>\n",
       "    <tr>\n",
       "      <td>29</td>\n",
       "      <td>9</td>\n",
       "    </tr>\n",
       "    <tr>\n",
       "      <td>30</td>\n",
       "      <td>1</td>\n",
       "    </tr>\n",
       "    <tr>\n",
       "      <td>31</td>\n",
       "      <td>24</td>\n",
       "    </tr>\n",
       "    <tr>\n",
       "      <td>32</td>\n",
       "      <td>6</td>\n",
       "    </tr>\n",
       "    <tr>\n",
       "      <td>33</td>\n",
       "      <td>5</td>\n",
       "    </tr>\n",
       "    <tr>\n",
       "      <td>34</td>\n",
       "      <td>5</td>\n",
       "    </tr>\n",
       "    <tr>\n",
       "      <td>35</td>\n",
       "      <td>1</td>\n",
       "    </tr>\n",
       "    <tr>\n",
       "      <td>36</td>\n",
       "      <td>1</td>\n",
       "    </tr>\n",
       "    <tr>\n",
       "      <td>37</td>\n",
       "      <td>1</td>\n",
       "    </tr>\n",
       "    <tr>\n",
       "      <td>38</td>\n",
       "      <td>26</td>\n",
       "    </tr>\n",
       "    <tr>\n",
       "      <td>39</td>\n",
       "      <td>9</td>\n",
       "    </tr>\n",
       "    <tr>\n",
       "      <td>40</td>\n",
       "      <td>14</td>\n",
       "    </tr>\n",
       "    <tr>\n",
       "      <td>41</td>\n",
       "      <td>4</td>\n",
       "    </tr>\n",
       "    <tr>\n",
       "      <td>42</td>\n",
       "      <td>28</td>\n",
       "    </tr>\n",
       "    <tr>\n",
       "      <td>43</td>\n",
       "      <td>84</td>\n",
       "    </tr>\n",
       "    <tr>\n",
       "      <td>44</td>\n",
       "      <td>7</td>\n",
       "    </tr>\n",
       "    <tr>\n",
       "      <td>45</td>\n",
       "      <td>1</td>\n",
       "    </tr>\n",
       "    <tr>\n",
       "      <td>46</td>\n",
       "      <td>1</td>\n",
       "    </tr>\n",
       "    <tr>\n",
       "      <td>47</td>\n",
       "      <td>1</td>\n",
       "    </tr>\n",
       "    <tr>\n",
       "      <td>48</td>\n",
       "      <td>1</td>\n",
       "    </tr>\n",
       "    <tr>\n",
       "      <td>49</td>\n",
       "      <td>3</td>\n",
       "    </tr>\n",
       "  </tbody>\n",
       "</table>\n",
       "</div>"
      ],
      "text/plain": [
       "          Palabras\n",
       "Etiqueta          \n",
       "0              259\n",
       "1               13\n",
       "2                1\n",
       "3                1\n",
       "4               40\n",
       "5               30\n",
       "6                4\n",
       "7                1\n",
       "8               31\n",
       "9                2\n",
       "10               2\n",
       "11               1\n",
       "12               5\n",
       "13               1\n",
       "14              23\n",
       "15               1\n",
       "16             272\n",
       "17              96\n",
       "18               1\n",
       "19               6\n",
       "20               1\n",
       "21               8\n",
       "22              34\n",
       "23               1\n",
       "24               1\n",
       "25              93\n",
       "26               8\n",
       "27              47\n",
       "28               7\n",
       "29               9\n",
       "30               1\n",
       "31              24\n",
       "32               6\n",
       "33               5\n",
       "34               5\n",
       "35               1\n",
       "36               1\n",
       "37               1\n",
       "38              26\n",
       "39               9\n",
       "40              14\n",
       "41               4\n",
       "42              28\n",
       "43              84\n",
       "44               7\n",
       "45               1\n",
       "46               1\n",
       "47               1\n",
       "48               1\n",
       "49               3"
      ]
     },
     "execution_count": 12,
     "metadata": {},
     "output_type": "execute_result"
    }
   ],
   "source": [
    "clust50.groupby('Etiqueta').count()"
   ]
  },
  {
   "cell_type": "code",
   "execution_count": 14,
   "metadata": {},
   "outputs": [
    {
     "name": "stdout",
     "output_type": "stream",
     "text": [
      "Cluster  0 :  ['alemania', 'fc', 'despus', 'san', 'luis', 'unidos', 'all', 'universidad', 'pas', 'francia', 'alemn', 'seleccin', 'mundial', 'mara', 'lpez', 'garca', 'eduardo', 'manuel', 'fernando', 'carlos', 'francs', 'pars', 'trmino', 'francisco', 'estudi', 'msica', 'festival', 'roma', 'gobierno', 'graham', 'londres', 'ii', 'du', 'franco', 'poltico', 'participacin', 'gobernar', 'repblica', 'recibi', 'partido', 'adems', 'fundacin', 'comisin', 'cmara', 'form', 'economa', 'congreso', 'investigacin', 'transicin', 'argentina', 'justicia', 'iii', 'liga', 'ligar', 'v', 'ejrcito', 'gonzlez', 'barcelona', 'inici', 'particip', 'juan', 'divisin', 'washington', 'c', 'internet', 'pblico', 'estacin', 'naci', 'cancin', 'river', 'school', 'opera', 'santa', 'fe', 'ltima', 'william', 'segunda', 'jos', 'irn', 'regin', 'europa', 'don', 'lder', 'primera', 'religin', 'george', 'continuacin', 'qu', 'ningn', 'peter', 'jorge', 'vase', 'edicin', 'david', 'asia', 'university', 'jess', 'venezuela', 'unin', 'pblica', 'maria', 'campo', 'alihuat', 'fernndez', 'chile', 'batero', 'rafael', 'direccin', 'robert', 'texas', 'carolina', 'est', 'mxico', 'california', 'ayuntamiento', 'instituto', 'sonora', 'felipe', 'alberto', 'prez', 'operacin', 'razn', 'tom', 'misin', 'ms', 'capitn', 'infantera', 'an', 'construccin', 'nicols', 'posicin', 'compaa', 'armada', 'city', 'academia', 'japn', 'area', 'die', 'richard', 'cruz', 'australia', 'centro', 'televisin', 'tour', 'italia', 'artculo', 'referencias', 'india', 'asociacin', 'santiago', 'brasil', 'santo', 'espaa', 'espaola', 'ste', 'miguel', 'polica', 'pablo', 'antonio', 'msico', 'madrid', 'samba', 'crtica', 'gua', 'martnez', 'reino', 'unido', 'extensin', 'iglesia', 'energa', 'radio', 'valle', 'uribe', 'consejo', 'educacin', 'organizacin', 'seor', 'puerto', 'tcnica', 'snchez', 'senado', 'comn', 'eleccin', 'paul', 'chicago', 'crdoba', 'sevilla', 'mlaga', 'blanca', 'pedro', 'premio', 'rodrguez', 'jean', 'amrica', 'so', 'paulo', 'sovitica', 'martn', 'casa', 'castilla', 'len', 'london', 'coleccin', 'carcter', 'von', 'fricar', 'formacin', 'creacin', 'inters', 'cre', 'tamao', 'sol', 'montaas', 'can', 'james', 'national', 'canad', 'orihuela', 'valencia', 'colegio', 'iv', 'filosofa', 'valladolid', 'administracin', 'alfonso', 'plata', 'rosario', 'junta', 'der', 'insee', 'michael', 'sta', 'dios', 'diseo', 'versin', 'avin', 'dr', 'vasco', 'avenida', 'medioda', 'hab', 'revolucin', 'lee', 'burgos', 'funeral', 'dvd', 'allen', 'van', 'sierra', 'murcia', 'saln', 'ue', 'romeu', 'harmonia', 'najwa', 'wilson', 'eln', 'obama', 'frmaco'] \n",
      "\n",
      "Cluster  1 :  ['varios', 'mismo', 'cada', 'vario', 'cualquiera', 'alguno', 'aquel', 'diverso', 'diferente', 'talar', 'distinto', 'ninguno', 'cierto'] \n",
      "\n",
      "Cluster  2 :  ['llegar'] \n",
      "\n",
      "Cluster  3 :  ['ver'] \n",
      "\n",
      "Cluster  4 :  ['jug', 'ao', 'paris', 'campeonato', 'copa', 'per', 'gan', 'et', 'at', 'united', 'red', 'nmero', 'isbn', 'from', 'press', 'regimiento', 'kilmetros', 'batalln', 'records', 'vuelta', 'colombia', 'public', 'f', 'text', 'x', 'canal', 'l', 's', 'cd', 'tv', 'smith', 'jaguar', 'wagner', 'mundi', 'cv', 'deller', 'lp', 'till', 'fontsize', 'xs'] \n",
      "\n",
      "Cluster  5 :  ['delantero', 'cuadrar', 'externo', 'particular', 'joven', 'polticas', 'relacionar', 'griego', 'pequea', 'armar', 'responsable', 'izquierdo', 'enemigo', 'herir', 'cortar', 'ganador', 'poltica', 'medio', 'caractersticas', 'ltimos', 'destinar', 'sencillo', 'pequeo', 'lateral', 'futuro', 'vecino', 'plano', 'exterior', 'guerrillero', 'sillar'] \n",
      "\n",
      "Cluster  6 :  ['aos', 'endofarticle', 'buenos', 'aires'] \n",
      "\n",
      "Cluster  7 :  ['equipar'] \n",
      "\n",
      "Cluster  8 :  ['agostar', 'minuto', 'gol', 'temporada', 'mayar', 'julio', 'marzo', 'octubre', 'enero', 'escultura', 'septiembre', 'junio', 'dcada', 'kilómetro', 'noviembre', 'diciembre', 'febrero', 'metro', 'abril', 'hora', 'semana', 'etapa', 'n', 'juego', 'millón', 'centímetro', 'longitud', 'd', 'pistar', 'elecciones', 'elección'] \n",
      "\n",
      "Cluster  9 :  ['dígito', 'milímetro'] \n",
      "\n",
      "Cluster  10 :  ['milisegundo', 'general'] \n",
      "\n",
      "Cluster  11 :  ['poblar'] \n",
      "\n",
      "Cluster  12 :  ['actor', 'director', 'actriz', 'jugador', 'entrenador'] \n",
      "\n",
      "Cluster  13 :  ['dirigir'] \n",
      "\n",
      "Cluster  14 :  ['love', 'for', 'on', 'and', 'i', 'music', 'to', 'world', 'american', 'it', 'show', 'with', 'you', 'review', 'man', 'by', 'henry', 'one', 'my', 'that', 'was', 'her', 'mcmahon'] \n",
      "\n",
      "Cluster  15 :  ['doc'] \n",
      "\n",
      "Cluster  16 :  ['futbolista', 'consecuencia', 'familia', 'mano', 'mesar', 'debut', 'amor', 'esposo', 'tierra', 'episodio', 'casar', 'profesor', 'teora', 'piano', 'cantante', 'artista', 'revistar', 'hijo', 'vez', 'miembro', 'accin', 'fecho', 'frente', 'ciudad', 'girar', 'comandante', 'principio', 'actividad', 'autor', 'libro', 'municipio', 'trabajo', 'lado', 'valor', 'pesar', 'sangrar', 'muerte', 'control', 'frontero', 'objetivar', 'orden', 'edad', 'momento', 'carrera', 'calidad', 'acordar', 'equipo', 'arte', 'imgenes', 'hermano', 'pelcula', 'disco', 'compositor', 'canción', 'texto', 'cine', 'centrar', 'mediar', 'padre', 'noche', 'mundo', 'campar', 'principiar', 'largar', 'final', 'cursar', 'capital', 'habitante', 'ocasionar', 'historiador', 'palabra', 'personar', 'reinar', 'fin', 'mitad', 'transportar', 'isla', 'ancho', 'distanciar', 'cuanto', 'hogar', 'tropa', 'reconocimiento', 'piedra', 'gente', 'zona', 'fuerza', 'marchar', 'causar', 'cargar', 'jvenes', 'personaje', 'tal', 'fuente', 'origen', 'conflicto', 'papel', 'respectar', 'medir', 'hoja', 'escritor', 'caminar', 'bosque', 'mayora', 'soldar', 'tipo', 'batallar', 'elemento', 'referenciar', 'hermanar', 'orar', 'estudiante', 'fundador', 'travs', 'combatir', 'terreno', 'regimentar', 'unidad', 'comandar', 'fondo', 'extremar', 'salar', 'distrito', 'nivel', 'pilotar', 'sector', 'promediar', 'experiencia', 'vivienda', 'recurso', 'ejemplo', 'hecho', 'estacionar', 'cabeza', 'accionar', 'defensa', 'manera', 'aguar', 'cuerpo', 'altura', 'punto', 'pie', 'presenciar', 'vehculos', 'servicio', 'material', 'coser', 'manir', 'espaciar', 'sonido', 'favor', 'clase', 'industriar', 'interior', 'estilar', 'estrellar', 'escena', 'concertar', 'concierto', 'pase', 'letra', 'programar', 'problema', 'ala', 'ciclista', 'premiar', 'productor', 'restar', 'estadio', 'honor', 'estudio', 'novelar', 'fase', 'amigo', 'literatura', 'verano', 'influenciar', 'barrio', 'sitiar', 'gracia', 'condicionar', 'sedar', 'cabo', 'modelar', 'pueblo', 'templar', 'casero', 'madre', 'localidad', 'empresa', 'edificio', 'bus', 'radiar', 'alcalde', 'forzar', 'cadena', 'temer', 'propiedad', 'autoridad', 'carretero', 'tren', 'falto', 'conjuntar', 'ferrocarril', 'sistema', 'velocidad', 'chico', 'luz', 'ideo', 'especie', 'ave', 'comediar', 'imagen', 'ciencia', 'banda', 'euro', 'proyectar', 'portar', 'producto', 'modo', 'conocimiento', 'importancia', 'proyecto', 'necesidad', 'flor', 'aire', 'colorir', 'venta', 'capacidad', 'superficie', 'diferenciar', 'animal', 'motivar', 'resto', 'cantidad', 'periodo', 'listo', 'actualidad', 'arco', 'efecto', 'acceso', 'pieza', 'estructurar', 'maderar', 'callar', 'muro', 'tramar', 'relacin', 'puerta', 'pintor', 'pintura', 'color', 'nacimiento', 'realidad', 'anonceas', 'aspecto', 'periodista', 'motor', 'formato', 'eje', 'volumen', 'espadar', 'buque', 'concepto', 'lanzamiento', 'vano', 'procesar', 'volar', 'dato', 'ventana', 'hueco', 'apocinceas'] \n",
      "\n",
      "Cluster  17 :  ['nacer', 'actual', 'primero', 'titular', '\\ufeff1', 'nacido', 'gran', 'grande', 'oficial', 'argentino', 'electo', 'posterior', 'ex', 'militar', 'antiguar', 'juntar', 'nico', 'cercano', 'llamar', 'propio', 'nica', 'local', 'tradicional', 'estadounidense', 'conocido', 'principal', 'situar', 'menor', 'bajo', 'notable', 'solo', 'junto', 'determinar', 'ltimo', 'comercial', 'inferior', 'perteneciente', 'segundar', 'igual', 'tercero', 'claro', 'romano', 'posible', 'anterior', 'importante', 'obligar', 'ubicar', 'antiguo', 'paraguayo', 'mayor', 'boliviano', 'bueno', 'similar', 'nuevo', 'dedicar', 'mejor', 'municipal', 'amplio', 'cuartar', 'largo', 'fuerte', 'pequeas', 'mejorar', 'directo', 'ruso', 'viejo', 'necesario', 'humano', 'colombiano', 'moderno', 'privar', 'natural', 'numeroso', 'mexicano', 'rural', 'especializar', 'estn', 'original', 'histrico', 'secundario', 'americano', 'tropical', 'urbano', 'famoso', 'alemán', 'verdadero', 'francés', 'religioso', 'doblar', 'vertical', 'decorar', 'nativo', 'especial', 'italiano', 'chileno', 'polaco'] \n",
      "\n",
      "Cluster  18 :  ['musical'] \n",
      "\n",
      "Cluster  19 :  ['derecho', 'siglo', 'xx', 'xix', 'xvi', 'xviii'] \n",
      "\n",
      "Cluster  20 :  ['nacional'] \n",
      "\n",
      "Cluster  21 :  ['parir', 'sobrar', 'tras', 'entrar', 'hacia', 'bajar', 'in', 'mediante'] \n",
      "\n",
      "Cluster  22 :  ['campaa', 'superior', 'espaol', 'social', 'occidental', 'profesional', 'personal', 'popular', 'muri', 'europeo', 'negro', 'cristiano', 'alto', 'primer', 'estatal', 'total', 'blanco', 'oriental', 'cultural', 'deportivo', 'federal', 'internacional', 'espaoles', 'rico', 'tcnico', 'industrial', 'botnico', 'britnico', 'verde', 'solar', 'rojo', 'civil', 'fanergamas', 'independiente'] \n",
      "\n",
      "Cluster  23 :  ['recibir'] \n",
      "\n",
      "Cluster  24 :  ['segn'] \n",
      "\n",
      "Cluster  25 :  ['abandonar', 'disponer', 'conseguir', 'encontrar', 'participar', 'tener', 'dar', 'referirse', 'recordar', 'cantar', 'trabaj', 'significar', 'ocupar', 'hacer', 'paso', 'descubrir', 'realiz', 'establecer', 'contener', 'tratar', 'haba', 'representar', 'vender', 'producir', 'capturar', 'lograr', 'acabar', 'comprar', 'llevar', 'existir', 'creer', 'describir', 'mostrar', 'obtener', 'seguir', 'llev', 'podar', 'permitir', 'conservar', 'matar', 'haban', 'sera', 'tomar', 'escribi', 'quedar', 'enfrentar', 'esperar', 'convertir', 'operar', 'hallar', 'presentar', 'buscar', 'referir', 'terminar', 'perder', 'tena', 'ganar', 'pedir', 'decidir', 'querer', 'cumplir', 'contar', 'dejar', 'decidi', 'extender', 'continuar', 'empezar', 'declarar', 'indicar', 'evitar', 'comprender', 'introducir', 'incluir', 'pensar', 'tenan', 'mantener', 'servir', 'convirti', 'destruir', 'tocar', 'conducir', 'saber', 'suponer', 'sustituir', 'poseer', 'hablar', 'finalizar', 'venir', 'pertenecer', 'corresponder', 'ofrecer', 'alcanzar', 'adquirir'] \n",
      "\n",
      "Cluster  26 :  ['new', 'york', 'nueva', 'enlaces', 'as', 'duque', 'conde', 'marqus'] \n",
      "\n",
      "Cluster  27 :  ['destacar', 'grabar', 'interpretar', 'elegir', 'enviar', 'decir', 'firmar', 'componer', 'conocer', 'lanzar', 'asesinar', 'realizar', 'fundar', 'utilizar', 'rodear', 'mencionar', 'cerrar', 'escribir', 'ocurrir', 'abrir', 'morir', 'resolver', 'constituir', 'logr', 'completar', 'construir', 'anunciar', 'denominar', 'organizar', 'estrenar', 'reconocer', 'publicar', 'considerar', 'celebrar', 'dividir', 'crear', 'emitir', 'invitar', 'definir', 'compartir', 'conectar', 'designar', 'limitar', 'citar', 'conformar', 'integrar', 'localizar'] \n",
      "\n",
      "Cluster  28 :  ['the', 'international', 'plant', 'systematics', 'ppp', 'index', 'names'] \n",
      "\n",
      "Cluster  29 :  ['ingls', 'pgina', 'sitio', 'litro', 'web', 'lnea', 'informacin', 'museo', 'ficha'] \n",
      "\n",
      "Cluster  30 :  ['b'] \n",
      "\n"
     ]
    },
    {
     "name": "stdout",
     "output_type": "stream",
     "text": [
      "Cluster  31 :  ['slo', 'luchar', 'ayudar', 'atacar', 'basar', 'visitar', 'vestir', 'ingresar', 'resultar', 'viajar', 'formar', 'registrar', 'mandar', 'avanzar', 'sentir', 'librar', 'cubrir', 'apoyar', 'desarrollar', 'figurar', 'encargar', 'estudiar', 'funcionar', 'marcar'] \n",
      "\n",
      "Cluster  32 :  ['escuela', 'grupo', 'vida', 'mujer', 'hombre', 'movimiento'] \n",
      "\n",
      "Cluster  33 :  ['saint', 'john', 'poblacin', 'cantn', 'tarn'] \n",
      "\n",
      "Cluster  34 :  ['of', 'history', 'catalogue', 'life', 'encyclopedia'] \n",
      "\n",
      "Cluster  35 :  ['aparecer'] \n",
      "\n",
      "Cluster  36 :  ['seriar'] \n",
      "\n",
      "Cluster  37 :  ['cambiar'] \n",
      "\n",
      "Cluster  38 :  ['comenz', 'entonces', 'actualmente', 'dentro', 'cercar', 'luego', 'rpidamente', 'tardar', 'alrededor', 'nunca', 'bien', 'finalmente', 'incluso', 'siempre', 'aproximadamente', 'menos', 'ahora', 'pronto', 'tan', 'casi', 'hoy', 'originalmente', 'posteriormente', 'principalmente', 'especialmente', 'generalmente'] \n",
      "\n",
      "Cluster  39 :  ['diez', 'do', 'siete', 'tres', 'seis', 'ambos', 'mil', 'cincar', 'cuatro'] \n",
      "\n",
      "Cluster  40 :  ['ser', 'comer', 'haber', 'poder', 'cuyo', 'parecer', 'aunque', 'deber', 'mientras', 'si', 'sino', 'pues', 'soler', 'unir'] \n",
      "\n",
      "Cluster  41 :  ['ro', 'central', 'paraguay', 'oeste'] \n",
      "\n",
      "Cluster  42 :  ['jugar', 'trabajar', 'vivir', 'derrotar', 'poner', 'intentar', 'regresar', 'cruzar', 'volver', 'lleg', 'comenzar', 'pasar', 'salir', 'aumentar', 'situacin', 'entregar', 'ir', 'iniciar', 'recorrer', 'emplear', 'retirar', 'usar', 'reemplazar', 'empez', 'proponer', 'contratar', 'desear', 'mirar'] \n",
      "\n",
      "Cluster  43 :  ['guerra', 'ftbol', 'club', 'tambin', 'paz', 'provincia', 'secretario', 'presidente', 'ministro', 'ley', 'cmo', 'seguridad', 'rey', 'xito', 'hotel', 'voz', 'guitarra', 'rus', 'mar', 'costa', 'ruta', 'norte', 'sur', 'noroeste', 'lago', 'pequeos', 'noreste', 'nios', 'jefe', 'independencia', 'cultura', 'reo', 'segundo', 'victoria', 'coronel', 'plan', 'lneas', 'historia', 'ttulo', 'maestro', 'presidencia', 'seccin', 'hospital', 'artculos', 'puente', 'pelculas', 'teatro', 'composicin', 'salud', 'video', 'departamento', 'oficina', 'categora', 'produccin', 'comunidad', 'gobernador', 'diario', 'condado', 'colonia', 'serie', 'catedral', 'biblioteca', 'arquitectura', 'palacio', 'sociedad', 'pilar', 'parque', 'rock', 'perodo', 'obispo', 'captulo', 'plaza', 'calle', 'memoria', 'castillo', 'co', 'metal', 'parroquia', 'anlisis', 'merindad', 'villa', 'cerro', 'aeropuerto', 'capilla'] \n",
      "\n",
      "Cluster  44 :  ['nombrar', 'tiempo', 'partir', 'lugar', 'fachado', 'plantar', 'obrar'] \n",
      "\n",
      "Cluster  45 :  ['territorio'] \n",
      "\n",
      "Cluster  46 :  ['real'] \n",
      "\n",
      "Cluster  47 :  ['embargar'] \n",
      "\n",
      "Cluster  48 :  ['siguiente'] \n",
      "\n",
      "Cluster  49 :  ['lbum', 'gnero', 'comuna'] \n",
      "\n"
     ]
    }
   ],
   "source": [
    "for i in range(0,50):\n",
    "    print('Cluster ', i, ': ', list(clust50[clust50.Etiqueta==i].Palabras),'\\n')"
   ]
  },
  {
   "cell_type": "code",
   "execution_count": 15,
   "metadata": {},
   "outputs": [],
   "source": [
    "clust100 = pd.read_csv('100clusters.csv').drop(['Unnamed: 0'], axis=1)"
   ]
  },
  {
   "cell_type": "code",
   "execution_count": 16,
   "metadata": {},
   "outputs": [
    {
     "data": {
      "text/html": [
       "<div>\n",
       "<style scoped>\n",
       "    .dataframe tbody tr th:only-of-type {\n",
       "        vertical-align: middle;\n",
       "    }\n",
       "\n",
       "    .dataframe tbody tr th {\n",
       "        vertical-align: top;\n",
       "    }\n",
       "\n",
       "    .dataframe thead th {\n",
       "        text-align: right;\n",
       "    }\n",
       "</style>\n",
       "<table border=\"1\" class=\"dataframe\">\n",
       "  <thead>\n",
       "    <tr style=\"text-align: right;\">\n",
       "      <th></th>\n",
       "      <th>Palabras</th>\n",
       "    </tr>\n",
       "    <tr>\n",
       "      <th>Etiqueta</th>\n",
       "      <th></th>\n",
       "    </tr>\n",
       "  </thead>\n",
       "  <tbody>\n",
       "    <tr>\n",
       "      <td>0</td>\n",
       "      <td>12</td>\n",
       "    </tr>\n",
       "    <tr>\n",
       "      <td>1</td>\n",
       "      <td>3</td>\n",
       "    </tr>\n",
       "    <tr>\n",
       "      <td>2</td>\n",
       "      <td>1</td>\n",
       "    </tr>\n",
       "    <tr>\n",
       "      <td>3</td>\n",
       "      <td>72</td>\n",
       "    </tr>\n",
       "    <tr>\n",
       "      <td>4</td>\n",
       "      <td>2</td>\n",
       "    </tr>\n",
       "    <tr>\n",
       "      <td>...</td>\n",
       "      <td>...</td>\n",
       "    </tr>\n",
       "    <tr>\n",
       "      <td>95</td>\n",
       "      <td>3</td>\n",
       "    </tr>\n",
       "    <tr>\n",
       "      <td>96</td>\n",
       "      <td>1</td>\n",
       "    </tr>\n",
       "    <tr>\n",
       "      <td>97</td>\n",
       "      <td>2</td>\n",
       "    </tr>\n",
       "    <tr>\n",
       "      <td>98</td>\n",
       "      <td>15</td>\n",
       "    </tr>\n",
       "    <tr>\n",
       "      <td>99</td>\n",
       "      <td>5</td>\n",
       "    </tr>\n",
       "  </tbody>\n",
       "</table>\n",
       "<p>100 rows × 1 columns</p>\n",
       "</div>"
      ],
      "text/plain": [
       "          Palabras\n",
       "Etiqueta          \n",
       "0               12\n",
       "1                3\n",
       "2                1\n",
       "3               72\n",
       "4                2\n",
       "...            ...\n",
       "95               3\n",
       "96               1\n",
       "97               2\n",
       "98              15\n",
       "99               5\n",
       "\n",
       "[100 rows x 1 columns]"
      ]
     },
     "execution_count": 16,
     "metadata": {},
     "output_type": "execute_result"
    }
   ],
   "source": [
    "clust100.groupby('Etiqueta').count()"
   ]
  },
  {
   "cell_type": "code",
   "execution_count": 17,
   "metadata": {},
   "outputs": [
    {
     "name": "stdout",
     "output_type": "stream",
     "text": [
      "Cluster  0 :  ['varios', 'cada', 'vario', 'cualquiera', 'alguno', 'aquel', 'diverso', 'diferente', 'talar', 'distinto', 'ninguno', 'cierto'] \n",
      "\n",
      "Cluster  1 :  ['pgina', 'sitio', 'web'] \n",
      "\n",
      "Cluster  2 :  ['milisegundo'] \n",
      "\n",
      "Cluster  3 :  ['paz', 'teora', 'accin', 'secretario', 'comandante', 'ministro', 'ley', 'cmo', 'seguridad', 'xito', 'orden', 'arte', 'hotel', 'rus', 'mar', 'costa', 'noroeste', 'lago', 'noreste', 'reinar', 'nios', 'fuerza', 'jefe', 'independencia', 'cultura', 'segundo', 'travs', 'coronel', 'plan', 'historia', 'ttulo', 'maestro', 'presidencia', 'hospital', 'artculos', 'puente', 'pelculas', 'teatro', 'salud', 'video', 'literatura', 'oficina', 'categora', 'pueblo', 'madre', 'produccin', 'radiar', 'comunidad', 'gobernador', 'colonia', 'serie', 'ciencia', 'biblioteca', 'arquitectura', 'sociedad', 'pilar', 'parque', 'rock', 'obispo', 'captulo', 'plaza', 'calle', 'memoria', 'castillo', 'co', 'metal', 'parroquia', 'anlisis', 'merindad', 'cerro', 'aeropuerto', 'capilla'] \n",
      "\n",
      "Cluster  4 :  ['sobrar', 'tras'] \n",
      "\n",
      "Cluster  5 :  ['llamar'] \n",
      "\n",
      "Cluster  6 :  ['campaa', 'espaol', 'gobernar', 'occidental', 'ltima', 'central', 'primer', 'oriental', 'federal', 'internacional', 'espaoles', 'rico', 'tcnico', 'civil', 'fanergamas'] \n",
      "\n",
      "Cluster  7 :  ['the', 'of', 'history', 'from', 'review', 'life', 'encyclopedia'] \n",
      "\n",
      "Cluster  8 :  ['hoy'] \n",
      "\n",
      "Cluster  9 :  ['profesional'] \n",
      "\n",
      "Cluster  10 :  ['equipar', 'tiempo', 'vez', 'derecho', 'ciudad', 'cargar', 'punto'] \n",
      "\n",
      "Cluster  11 :  ['diciembre'] \n",
      "\n",
      "Cluster  12 :  ['familia', 'siglo', 'xx', 'xix', 'especie', 'xvi', 'xviii', 'anonceas', 'apocinceas'] \n",
      "\n",
      "Cluster  13 :  ['saint', 'poblacin'] \n",
      "\n",
      "Cluster  14 :  ['oeste'] \n",
      "\n",
      "Cluster  15 :  ['kilómetro', 'ancho', 'metro', 'longitud'] \n",
      "\n",
      "Cluster  16 :  ['abandonar', 'disponer', 'conseguir', 'participar', 'referirse', 'destacar', 'recordar', 'cantar', 'grabar', 'trabaj', 'significar', 'enviar', 'ocupar', 'paso', 'descubrir', 'realiz', 'establecer', 'contener', 'representar', 'aparecer', 'vender', 'capturar', 'lograr', 'acabar', 'comprar', 'llevar', 'existir', 'creer', 'describir', 'mostrar', 'obtener', 'seguir', 'llev', 'podar', 'permitir', 'conservar', 'matar', 'haban', 'sera', 'tomar', 'escribi', 'quedar', 'enfrentar', 'esperar', 'convertir', 'operar', 'hallar', 'presentar', 'buscar', 'referir', 'terminar', 'perder', 'tena', 'ganar', 'pedir', 'decidir', 'querer', 'cumplir', 'dejar', 'decidi', 'resolver', 'extender', 'continuar', 'constituir', 'empezar', 'declarar', 'indicar', 'evitar', 'comprender', 'introducir', 'pensar', 'tenan', 'mantener', 'servir', 'convirti', 'destruir', 'tocar', 'conducir', 'saber', 'suponer', 'sustituir', 'poseer', 'recibir', 'hablar', 'finalizar', 'venir', 'pertenecer', 'compartir', 'conectar', 'corresponder', 'ofrecer', 'alcanzar', 'adquirir'] \n",
      "\n",
      "Cluster  17 :  ['consecuencia', 'mano', 'mesar', 'esposo', 'tierra', 'profesor', 'piano', 'cantante', 'artista', 'revistar', 'frente', 'girar', 'actividad', 'autor', 'libro', 'trabajo', 'lado', 'valor', 'sangrar', 'control', 'territorio', 'vida', 'frontero', 'objetivar', 'carrera', 'calidad', 'acordar', 'equipo', 'imgenes', 'hermano', 'disco', 'compositor', 'canción', 'texto', 'centrar', 'mundo', 'principiar', 'cursar', 'capital', 'poblar', 'ocasionar', 'historiador', 'palabra', 'fin', 'mitad', 'transportar', 'isla', 'distanciar', 'cuanto', 'tropa', 'reconocimiento', 'formar', 'gente', 'zona', 'marchar', 'causar', 'jvenes', 'armar', 'personaje', 'tal', 'fuente', 'origen', 'conflicto', 'respectar', 'medir', 'hoja', 'escritor', 'caminar', 'bosque', 'mayora', 'soldar', 'batallar', 'elemento', 'mandar', 'referenciar', 'hermanar', 'orar', 'fundador', 'combatir', 'terreno', 'sentir', 'fondo', 'extremar', 'salar', 'nivel', 'pilotar', 'sector', 'experiencia', 'vivienda', 'recurso', 'ejemplo', 'hecho', 'estacionar', 'cabeza', 'accionar', 'defensa', 'manera', 'cuerpo', 'altura', 'presenciar', 'vehculos', 'material', 'coser', 'manir', 'espaciar', 'sonido', 'industriar', 'estilar', 'escena', 'concertar', 'concierto', 'pase', 'letra', 'problema', 'ala', 'productor', 'restar', 'estadio', 'estudio', 'amigo', 'influenciar', 'barrio', 'sitiar', 'gracia', 'condicionar', 'sedar', 'modelar', 'templar', 'localidad', 'empresa', 'bus', 'cadena', 'propiedad', 'autoridad', 'carretero', 'tren', 'falto', 'conjuntar', 'ferrocarril', 'sistema', 'chico', 'luz', 'ideo', 'plantar', 'ave', 'comediar', 'imagen', 'proyectar', 'portar', 'producto', 'modo', 'conocimiento', 'importancia', 'proyecto', 'necesidad', 'flor', 'aire', 'colorir', 'venta', 'capacidad', 'superficie', 'diferenciar', 'animal', 'motivar', 'resto', 'cantidad', 'actualidad', 'efecto', 'pieza', 'estructurar', 'callar', 'tramar', 'relacin', 'pintor', 'pintura', 'color', 'realidad', 'aspecto', 'periodista', 'formato', 'espadar', 'buque', 'concepto', 'lanzamiento', 'procesar', 'volar', 'dato'] \n",
      "\n",
      "Cluster  18 :  ['francés', 'comuna'] \n",
      "\n",
      "Cluster  19 :  ['momento', 'lbum', 'ruta', 'servicio'] \n",
      "\n",
      "Cluster  20 :  ['oficial', 'social', 'alto', 'municipal', 'blanco'] \n",
      "\n",
      "Cluster  21 :  ['cuyo', 'unir'] \n",
      "\n",
      "Cluster  22 :  ['cabo'] \n",
      "\n",
      "Cluster  23 :  ['unidos', 'msica', 'litro', 'mxico', 'samba'] \n",
      "\n",
      "Cluster  24 :  ['dar'] \n",
      "\n",
      "Cluster  25 :  ['tener'] \n",
      "\n",
      "Cluster  26 :  ['semana'] \n",
      "\n",
      "Cluster  27 :  ['director', 'desarrollar', 'temer', 'estudiar', 'banda', 'obrar'] \n",
      "\n",
      "Cluster  28 :  ['buenos', 'aires', 'argentina'] \n",
      "\n",
      "Cluster  29 :  ['haber'] \n",
      "\n",
      "Cluster  30 :  ['nmero'] \n",
      "\n",
      "Cluster  31 :  ['museo'] \n",
      "\n",
      "Cluster  32 :  ['dígito', 'milímetro'] \n",
      "\n",
      "Cluster  33 :  ['haba', 'ver', 'ir', 'incluir'] \n",
      "\n",
      "Cluster  34 :  ['campar'] \n",
      "\n",
      "Cluster  35 :  ['poltico', 'partido'] \n",
      "\n",
      "Cluster  36 :  ['realizar'] \n",
      "\n",
      "Cluster  37 :  ['rey'] \n",
      "\n",
      "Cluster  38 :  ['mismo', 'deber'] \n",
      "\n",
      "Cluster  39 :  ['alemania', 'fc', 'all', 'francia', 'mundial', 'lpez', 'eduardo', 'fernando', 'pars', 'francisco', 'roma', 'gobierno', 'ii', 'du', 'recibi', 'form', 'congreso', 'iii', 'liga', 'v', 'gonzlez', 'barcelona', 'inici', 'particip', 'washington', 'naci', 'opera', 'william', 'segunda', 'george', 'peter', 'jorge', 'edicin', 'david', 'university', 'press', 'jess', 'maria', 'fernndez', 'rafael', 'robert', 'california', 'sonora', 'alberto', 'prez', 'an', 'nicols', 'posicin', 'city', 'die', 'richard', 'cruz', 'tour', 'italia', 'referencias', 'santiago', 'miguel', 'pablo', 'madrid', 'martnez', 'extensin', 'radio', 'eleccin', 'chicago', 'crdoba', 'sevilla', 'pedro', 'premio', 'jean', 'so', 'paulo', 'martn', 'von', 'james', 'national', 'valencia', 'colegio', 'iv', 'alfonso', 'der', 'dr', 'smith', 'avenida', 'hab', 'lee', 'dvd', 'allen', 'b', 'murcia', 'harmonia', 'wilson'] \n",
      "\n",
      "Cluster  40 :  ['hombre'] \n",
      "\n",
      "Cluster  41 :  ['jugar', 'trabajar', 'derrotar', 'luchar', 'poner', 'ayudar', 'atacar', 'intentar', 'regresar', 'cruzar', 'volver', 'firmar', 'cambiar', 'visitar', 'vestir', 'resultar', 'pasar', 'viajar', 'registrar', 'aumentar', 'situacin', 'entregar', 'iniciar', 'avanzar', 'recorrer', 'emplear', 'retirar', 'usar', 'cubrir', 'apoyar', 'figurar', 'proponer', 'encargar', 'contratar', 'funcionar', 'desear', 'mirar'] \n",
      "\n",
      "Cluster  42 :  ['parir', 'entrar', 'hacia', 'bajar', 'in', 'mediante'] \n",
      "\n",
      "Cluster  43 :  ['segundar'] \n",
      "\n",
      "Cluster  44 :  ['ser', 'poder', 'parecer', 'soler'] \n",
      "\n",
      "Cluster  45 :  ['club', 'voz', 'guitarra'] \n",
      "\n",
      "Cluster  46 :  ['militar'] \n",
      "\n",
      "Cluster  47 :  ['slo', 'tambin', 'vase'] \n",
      "\n",
      "Cluster  48 :  ['international', 'plant', 'systematics', 'ppp', 'index', 'names', 'catalogue'] \n",
      "\n",
      "Cluster  49 :  ['san', 'franco', 'regin', 'ro', 'paraguay', 'medioda'] \n",
      "\n",
      "Cluster  50 :  ['estacin'] \n",
      "\n",
      "Cluster  51 :  ['doc'] \n",
      "\n",
      "Cluster  52 :  ['love', 'for', 'on', 'john', 'school', 'music', 'to', 'world', 'american', 'it', 'with', 'you', 'man', 'by', 'henry', 'one', 'my', 'that', 'was', 'her', 'mcmahon'] \n",
      "\n",
      "Cluster  53 :  ['distrito', 'departamento', 'cantn', 'tarn'] \n",
      "\n",
      "Cluster  54 :  ['junio'] \n",
      "\n",
      "Cluster  55 :  ['escuela', 'presidente'] \n",
      "\n",
      "Cluster  56 :  ['piedra', 'fachado', 'aguar', 'interior', 'jugador', 'casero', 'edificio', 'arco', 'acceso', 'maderar', 'muro', 'puerta', 'eje', 'vano', 'ventana', 'hueco'] \n",
      "\n",
      "Cluster  57 :  ['alemn', 'seleccin', 'francs', 'estudi', 'graham', 'londres', 'participacin', 'repblica', 'fundacin', 'comisin', 'cmara', 'economa', 'investigacin', 'transicin', 'ejrcito', 'c', 'internet', 'pblico', 'cancin', 'river', 'rpidamente', 'irn', 'segn', 'europa', 'lder', 'religin', 'ningn', 'asia', 'venezuela', 'unin', 'pblica', 'alihuat', 'batero', 'direccin', 'texas', 'instituto', 'felipe', 'operacin', 'razn', 'tom', 'misin', 'ms', 'construccin', 'compaa', 'armada', 'academia', 'japn', 'australia', 'televisin', 'artculo', 'india', 'asociacin', 'brasil', 'espaola', 'ste', 'polica', 'crtica', 'gua', 'energa', 'valle', 'uribe', 'consejo', 'educacin', 'organizacin', 'tcnica', 'senado', 'comn', 'paul', 'mlaga', 'blanca', 'amrica', 'sovitica', 'casa', 'castilla', 'len', 'london', 'coleccin', 'carcter', 'fricar', 'formacin', 'creacin', 'inters', 'tamao', 'montaas', 'can', 'canad', 'orihuela', 'filosofa', 'valladolid', 'administracin', 'rosario', 'junta', 'michael', 'sta', 'dios', 'versin', 'avin', 'revolucin', 'burgos', 'funeral', 'van', 'sierra', 'saln', 'ue', 'romeu', 'najwa', 'eln', 'obama'] \n",
      "\n",
      "Cluster  58 :  ['iglesia'] \n",
      "\n",
      "Cluster  59 :  ['grupo', 'partir', 'final', 'lugar'] \n",
      "\n",
      "Cluster  60 :  ['adems'] \n",
      "\n",
      "Cluster  61 :  ['entonces'] \n",
      "\n",
      "Cluster  62 :  ['universidad', 'don', 'duque', 'reino', 'unido', 'conde', 'marqus'] \n",
      "\n",
      "Cluster  63 :  ['tratar', 'salir'] \n",
      "\n",
      "Cluster  64 :  ['comer', 'aunque', 'si', 'pues'] \n",
      "\n",
      "Cluster  65 :  ['producir'] \n",
      "\n",
      "Cluster  66 :  ['divisin', 'santa', 'fe', 'primera', 'infantera'] \n",
      "\n",
      "Cluster  67 :  ['nacer', 'dirigir', 'interpretar', 'decir', 'componer', 'conocer', 'fundar', 'rodear', 'mencionar', 'cerrar', 'escribir', 'obligar', 'ocurrir', 'abrir', 'morir', 'logr', 'completar', 'anunciar', 'denominar', 'organizar', 'reconocer', 'publicar', 'celebrar', 'dividir', 'emitir', 'invitar', 'definir', 'limitar', 'citar', 'conformar', 'integrar', 'localizar'] \n",
      "\n",
      "Cluster  68 :  ['and'] \n",
      "\n",
      "Cluster  69 :  ['principal'] \n",
      "\n",
      "Cluster  70 :  ['sur', 'reo'] \n",
      "\n",
      "Cluster  71 :  ['actual', 'primero', 'titular', '\\ufeff1', 'superior', 'nacido', 'gran', 'grande', 'argentino', 'electo', 'posterior', 'ex', 'siguiente', 'antiguar', 'juntar', 'nico', 'cercano', 'propio', 'nica', 'local', 'tradicional', 'estadounidense', 'conocido', 'situar', 'menor', 'personal', 'bajo', 'notable', 'popular', 'solo', 'junto', 'determinar', 'ltimo', 'comercial', 'inferior', 'europeo', 'perteneciente', 'igual', 'tercero', 'negro', 'claro', 'romano', 'posible', 'anterior', 'importante', 'ubicar', 'antiguo', 'paraguayo', 'mayor', 'boliviano', 'bueno', 'similar', 'nuevo', 'dedicar', 'mejor', 'amplio', 'estatal', 'cuartar', 'largo', 'fuerte', 'pequeas', 'mejorar', 'directo', 'ruso', 'viejo', 'necesario', 'humano', 'cultural', 'musical', 'deportivo', 'colombiano', 'moderno', 'privar', 'natural', 'numeroso', 'mexicano', 'industrial', 'botnico', 'britnico', 'verde', 'rural', 'especializar', 'estn', 'original', 'rojo', 'histrico', 'secundario', 'americano', 'tropical', 'urbano', 'famoso', 'alemán', 'verdadero', 'religioso', 'doblar', 'vertical', 'decorar', 'nativo', 'especial', 'italiano', 'independiente', 'chileno', 'polaco'] \n",
      "\n",
      "Cluster  72 :  ['pas', 'trmino', 'festival', 'justicia', 'ligar', 'pequeos', 'continuacin', 'qu', 'campo', 'lneas', 'ayuntamiento', 'seccin', 'capitn', 'centro', 'composicin', 'show', 'informacin', 'santo', 'msico', 'seor', 'puerto', 'catedral', 'palacio', 'cre', 'sol', 'plata', 'diseo', 'vasco', 'villa', 'frmaco'] \n",
      "\n",
      "Cluster  73 :  ['diez', 'do', 'siete', 'tres', 'seis', 'ambos', 'mil', 'cincar', 'cuatro'] \n",
      "\n",
      "Cluster  74 :  ['ingls', 'endofarticle', 'nacional', 'ficha'] \n",
      "\n"
     ]
    },
    {
     "name": "stdout",
     "output_type": "stream",
     "text": [
      "Cluster  75 :  ['delantero', 'cuadrar', 'externo', 'particular', 'joven', 'polticas', 'relacionar', 'griego', 'basar', 'pequea', 'cristiano', 'responsable', 'izquierdo', 'enemigo', 'herir', 'cortar', 'ganador', 'poltica', 'medio', 'caractersticas', 'ltimos', 'destinar', 'sencillo', 'pequeo', 'lateral', 'solar', 'futuro', 'vecino', 'marcar', 'plano', 'exterior', 'guerrillero', 'sillar'] \n",
      "\n",
      "Cluster  76 :  ['luis', 'mara', 'garca', 'manuel', 'carlos', 'juan', 'jos', 'antonio', 'snchez', 'rodrguez'] \n",
      "\n",
      "Cluster  77 :  ['embargar', 'nombrar', 'actor', 'casar', 'hijo', 'miembro', 'municipio', 'cine', 'padre', 'personar', 'mujer', 'hogar', 'papel', 'movimiento', 'promediar', 'clase', 'programar', 'honor'] \n",
      "\n",
      "Cluster  78 :  ['espaa'] \n",
      "\n",
      "Cluster  79 :  ['futbolista', 'debut', 'amor', 'episodio', 'fecho', 'principio', 'pesar', 'muerte', 'edad', 'actriz', 'pelcula', 'noche', 'largar', 'habitante', 'estudiante', 'victoria', 'regimentar', 'comandar', 'librar', 'pie', 'favor', 'estrellar', 'ciclista', 'premiar', 'entrenador', 'novelar', 'fase', 'verano', 'alcalde', 'forzar', 'diario', 'velocidad', 'euro', 'periodo', 'listo', 'pistar', 'nacimiento', 'motor', 'volumen'] \n",
      "\n",
      "Cluster  80 :  ['hacer'] \n",
      "\n",
      "Cluster  81 :  ['norte', 'carolina'] \n",
      "\n",
      "Cluster  82 :  ['mediar', 'ingresar'] \n",
      "\n",
      "Cluster  83 :  ['ftbol', 'unidad'] \n",
      "\n",
      "Cluster  84 :  ['real'] \n",
      "\n",
      "Cluster  85 :  ['jug', 'ao', 'paris', 'aos', 'copa', 'per', 'et', 'enlaces', 'united', 'as', 'batalln', 'records', 'vuelta', 'colombia', 'f', 'l', 'cd', 'tv', 'jaguar', 'wagner', 'deller', 'lp'] \n",
      "\n",
      "Cluster  86 :  ['tipo'] \n",
      "\n",
      "Cluster  87 :  ['new', 'york', 'nueva'] \n",
      "\n",
      "Cluster  88 :  ['agostar', 'minuto', 'gol', 'temporada', 'mayar', 'marzo', 'octubre', 'enero', 'septiembre', 'dcada', 'noviembre', 'febrero', 'abril', 'hora', 'etapa', 'millón', 'centímetro', 'elecciones', 'elección'] \n",
      "\n",
      "Cluster  89 :  ['at', 'text', 's', 'fontsize', 'xs'] \n",
      "\n",
      "Cluster  90 :  ['comenz', 'actualmente', 'dentro', 'cercar', 'luego', 'tardar', 'alrededor', 'nunca', 'bien', 'finalmente', 'incluso', 'siempre', 'aproximadamente', 'menos', 'ahora', 'pronto', 'tan', 'casi', 'originalmente', 'posteriormente', 'principalmente', 'especialmente', 'generalmente'] \n",
      "\n",
      "Cluster  91 :  ['julio', 'campeonato', 'gan', 'escultura', 'red', 'lleg', 'muri', 'isbn', 'regimiento', 'kilmetros', 'total', 'n', 'juego', 'public', 'x', 'canal', 'd', 'mundi', 'cv', 'till'] \n",
      "\n",
      "Cluster  92 :  ['despus', 'est', 'insee'] \n",
      "\n",
      "Cluster  93 :  ['seriar', 'gnero'] \n",
      "\n",
      "Cluster  94 :  ['encontrar'] \n",
      "\n",
      "Cluster  95 :  ['mientras', 'i', 'sino'] \n",
      "\n",
      "Cluster  96 :  ['provincia'] \n",
      "\n",
      "Cluster  97 :  ['chile', 'area'] \n",
      "\n",
      "Cluster  98 :  ['vivir', 'elegir', 'llegar', 'lanzar', 'asesinar', 'comenzar', 'utilizar', 'contar', 'construir', 'reemplazar', 'empez', 'estrenar', 'considerar', 'crear', 'designar'] \n",
      "\n",
      "Cluster  99 :  ['guerra', 'general', 'lnea', 'condado', 'perodo'] \n",
      "\n"
     ]
    }
   ],
   "source": [
    "for i in range(0,100):\n",
    "    print('Cluster ', i, ': ', list(clust100[clust100.Etiqueta==i].Palabras),'\\n')"
   ]
  },
  {
   "cell_type": "code",
   "execution_count": null,
   "metadata": {},
   "outputs": [],
   "source": []
  }
 ],
 "metadata": {
  "colab": {
   "collapsed_sections": [],
   "name": "wikitriplas.ipynb",
   "provenance": [],
   "toc_visible": true
  },
  "kernelspec": {
   "display_name": "Python 3",
   "language": "python",
   "name": "python3"
  },
  "language_info": {
   "codemirror_mode": {
    "name": "ipython",
    "version": 3
   },
   "file_extension": ".py",
   "mimetype": "text/x-python",
   "name": "python",
   "nbconvert_exporter": "python",
   "pygments_lexer": "ipython3",
   "version": "3.7.3"
  }
 },
 "nbformat": 4,
 "nbformat_minor": 1
}
